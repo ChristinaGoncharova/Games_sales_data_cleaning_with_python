{
 "cells": [
  {
   "cell_type": "markdown",
   "id": "e06910dd",
   "metadata": {
    "id": "e06910dd"
   },
   "source": [
    "# Подготовка датасета `new_games.csv` к проведению анализа\n",
    "\n",
    "- Автор: Гончарова Кристина\n",
    "- Дата: 21.05.2025"
   ]
  },
  {
   "cell_type": "markdown",
   "id": "4149134c",
   "metadata": {
    "id": "4149134c"
   },
   "source": [
    "## Цели и задачи проекта\n",
    "Команда игры \"Секреты Темнолесья\" хочет подготовить статью о развитии индустрии игр в начале XXI века. Для этого им необходимо сделать обзор игровых платформ, изучить объемы продаж игр разных жанров и региональные предпочтения игроков с 2000 по 2013 год.\n",
    "\n",
    "В основные задачи настоящего проекта входит подготовить данные к дальнейшему анализу, а именно:\n",
    " - познакомиться с данными,\n",
    " - проверить их корректность,\n",
    " - провести предобработку, получив необходимый срез данных.\n",
    "   \n",
    "Перед началом проведения анализа также необходимо дополнительно сделать следующее:\n",
    " - отобрать данные по времени выхода игры (с 2000 по 2013 год включительно);\n",
    " - категоризовать игры по оценкам пользователей и экспертов, и выделить три категории:\n",
    "   - *высокая оценка* — с оценкой от 8 до 10 и от 80 до 100, включая правые границы интервалов,\n",
    "   - *средняя оценка* — с оценкой от 3 до 8 и от 30 до 80, не включая правые границы интервалов,\n",
    "   - *низкая оценка* — с оценкой от 0 до 3 и от 0 до 30, не включая правые границы интервалов;\n",
    "- выделить топ-7 платформ по количеству игр, выпущенных за весь требуемый период.\n"
   ]
  },
  {
   "cell_type": "markdown",
   "id": "728986ea",
   "metadata": {
    "id": "728986ea"
   },
   "source": [
    "## Описание данных\n",
    "Коллеги предоставили собранные из открытых источников исторические данные в датасете `new_games.csv`. В нем содержится информация о продажах игр, сделанных в разных жанрах и выпущенных на разных платформах, а также пользовательские и экспертные оценки игр. \n",
    "\n",
    "Столбцы датасета:\n",
    "\n",
    "`Name` — название игры\n",
    "\n",
    "`Platform` — название платформы\n",
    "\n",
    "`Year of Release` — год выпуска игры\n",
    "\n",
    "`Genre` — жанр игры\n",
    "\n",
    "`NA sales` — продажи в Северной Америке (в миллионах проданных копий)\n",
    "\n",
    "`EU sales` — продажи в Европе (в миллионах проданных копий)\n",
    "\n",
    "`JP sales` — продажи в Японии (в миллионах проданных копий)\n",
    "\n",
    "`Other sales` — продажи в других странах (в миллионах проданных копий)\n",
    "\n",
    "`Critic Score` — оценка критиков (от 0 до 100)\n",
    "\n",
    "`User Score` — оценка пользователей (от 0 до 10)\n",
    "\n",
    "`Rating` — рейтинг организации ESRB (англ. Entertainment Software Rating Board). Эта ассоциация определяет рейтинг компьютерных игр и присваивает им подходящую возрастную категорию"
   ]
  },
  {
   "cell_type": "markdown",
   "id": "4fecaf95",
   "metadata": {
    "id": "4fecaf95"
   },
   "source": [
    "## Содержание проекта\n",
    "\n",
    "- [1. Загрузка данных и знакомство с ними](#1.-Загрузка-данных-и-знакомство-с-ними)\n",
    "\n",
    "- [2. Проверка ошибок в данных и их предобработка](#2.-Проверка-ошибок-в-данных-и-их-предобработка)\n",
    "    - [2.1. Названия столбцов датафрейма](#21-Названия-столбцов-датафрейма)\n",
    "    - [2.2. Типы данных](#22-Типы-данных)\n",
    "    - [2.3. Наличие пропусков в данных](#23-Наличие-пропусков-в-данных)\n",
    "    - [2.4. Явные и неявные дубликаты](#24-Явные-и-неявные-дубликаты)\n",
    "\n",
    "- [3. Фильтрация данных](#3.-Фильтрация-данных)\n",
    "\n",
    "- [4. Категоризация данных](#4.-Категоризация-данных)\n",
    "\n",
    "- [5. Итоговый вывод](#5.-Итоговый-вывод)"
   ]
  },
  {
   "cell_type": "markdown",
   "id": "6f7d21d6",
   "metadata": {
    "id": "6f7d21d6"
   },
   "source": [
    "## 1. Загрузка данных и знакомство с ними"
   ]
  },
  {
   "cell_type": "code",
   "execution_count": 1,
   "id": "ebb66dc5",
   "metadata": {
    "id": "ebb66dc5"
   },
   "outputs": [],
   "source": [
    "# Импортируем библиотеку pandas\n",
    "import pandas as pd"
   ]
  },
  {
   "cell_type": "code",
   "execution_count": 2,
   "id": "ce87c1db",
   "metadata": {
    "id": "ce87c1db"
   },
   "outputs": [],
   "source": [
    "# Выгрузим данные в датафрейм\n",
    "games_df = pd.read_csv('https://code.s3.yandex.net/datasets/new_games.csv')"
   ]
  },
  {
   "cell_type": "code",
   "execution_count": 3,
   "id": "3937acf7",
   "metadata": {
    "id": "3937acf7"
   },
   "outputs": [
    {
     "data": {
      "text/html": [
       "<div>\n",
       "<style scoped>\n",
       "    .dataframe tbody tr th:only-of-type {\n",
       "        vertical-align: middle;\n",
       "    }\n",
       "\n",
       "    .dataframe tbody tr th {\n",
       "        vertical-align: top;\n",
       "    }\n",
       "\n",
       "    .dataframe thead th {\n",
       "        text-align: right;\n",
       "    }\n",
       "</style>\n",
       "<table border=\"1\" class=\"dataframe\">\n",
       "  <thead>\n",
       "    <tr style=\"text-align: right;\">\n",
       "      <th></th>\n",
       "      <th>Name</th>\n",
       "      <th>Platform</th>\n",
       "      <th>Year of Release</th>\n",
       "      <th>Genre</th>\n",
       "      <th>NA sales</th>\n",
       "      <th>EU sales</th>\n",
       "      <th>JP sales</th>\n",
       "      <th>Other sales</th>\n",
       "      <th>Critic Score</th>\n",
       "      <th>User Score</th>\n",
       "      <th>Rating</th>\n",
       "    </tr>\n",
       "  </thead>\n",
       "  <tbody>\n",
       "    <tr>\n",
       "      <th>0</th>\n",
       "      <td>Wii Sports</td>\n",
       "      <td>Wii</td>\n",
       "      <td>2006.0</td>\n",
       "      <td>Sports</td>\n",
       "      <td>41.36</td>\n",
       "      <td>28.96</td>\n",
       "      <td>3.77</td>\n",
       "      <td>8.45</td>\n",
       "      <td>76.0</td>\n",
       "      <td>8</td>\n",
       "      <td>E</td>\n",
       "    </tr>\n",
       "    <tr>\n",
       "      <th>1</th>\n",
       "      <td>Super Mario Bros.</td>\n",
       "      <td>NES</td>\n",
       "      <td>1985.0</td>\n",
       "      <td>Platform</td>\n",
       "      <td>29.08</td>\n",
       "      <td>3.58</td>\n",
       "      <td>6.81</td>\n",
       "      <td>0.77</td>\n",
       "      <td>NaN</td>\n",
       "      <td>NaN</td>\n",
       "      <td>NaN</td>\n",
       "    </tr>\n",
       "    <tr>\n",
       "      <th>2</th>\n",
       "      <td>Mario Kart Wii</td>\n",
       "      <td>Wii</td>\n",
       "      <td>2008.0</td>\n",
       "      <td>Racing</td>\n",
       "      <td>15.68</td>\n",
       "      <td>12.76</td>\n",
       "      <td>3.79</td>\n",
       "      <td>3.29</td>\n",
       "      <td>82.0</td>\n",
       "      <td>8.3</td>\n",
       "      <td>E</td>\n",
       "    </tr>\n",
       "    <tr>\n",
       "      <th>3</th>\n",
       "      <td>Wii Sports Resort</td>\n",
       "      <td>Wii</td>\n",
       "      <td>2009.0</td>\n",
       "      <td>Sports</td>\n",
       "      <td>15.61</td>\n",
       "      <td>10.93</td>\n",
       "      <td>3.28</td>\n",
       "      <td>2.95</td>\n",
       "      <td>80.0</td>\n",
       "      <td>8</td>\n",
       "      <td>E</td>\n",
       "    </tr>\n",
       "    <tr>\n",
       "      <th>4</th>\n",
       "      <td>Pokemon Red/Pokemon Blue</td>\n",
       "      <td>GB</td>\n",
       "      <td>1996.0</td>\n",
       "      <td>Role-Playing</td>\n",
       "      <td>11.27</td>\n",
       "      <td>8.89</td>\n",
       "      <td>10.22</td>\n",
       "      <td>1.00</td>\n",
       "      <td>NaN</td>\n",
       "      <td>NaN</td>\n",
       "      <td>NaN</td>\n",
       "    </tr>\n",
       "  </tbody>\n",
       "</table>\n",
       "</div>"
      ],
      "text/plain": [
       "                       Name Platform  Year of Release         Genre  NA sales  \\\n",
       "0                Wii Sports      Wii           2006.0        Sports     41.36   \n",
       "1         Super Mario Bros.      NES           1985.0      Platform     29.08   \n",
       "2            Mario Kart Wii      Wii           2008.0        Racing     15.68   \n",
       "3         Wii Sports Resort      Wii           2009.0        Sports     15.61   \n",
       "4  Pokemon Red/Pokemon Blue       GB           1996.0  Role-Playing     11.27   \n",
       "\n",
       "  EU sales JP sales  Other sales  Critic Score User Score Rating  \n",
       "0    28.96     3.77         8.45          76.0          8      E  \n",
       "1     3.58     6.81         0.77           NaN        NaN    NaN  \n",
       "2    12.76     3.79         3.29          82.0        8.3      E  \n",
       "3    10.93     3.28         2.95          80.0          8      E  \n",
       "4     8.89    10.22         1.00           NaN        NaN    NaN  "
      ]
     },
     "execution_count": 3,
     "metadata": {},
     "output_type": "execute_result"
    }
   ],
   "source": [
    "# Выведем первые 5 строк датафрейма\n",
    "games_df.head()"
   ]
  },
  {
   "cell_type": "code",
   "execution_count": 4,
   "id": "d7c8eb4b",
   "metadata": {
    "id": "d7c8eb4b"
   },
   "outputs": [
    {
     "name": "stdout",
     "output_type": "stream",
     "text": [
      "<class 'pandas.core.frame.DataFrame'>\n",
      "RangeIndex: 16956 entries, 0 to 16955\n",
      "Data columns (total 11 columns):\n",
      " #   Column           Non-Null Count  Dtype  \n",
      "---  ------           --------------  -----  \n",
      " 0   Name             16954 non-null  object \n",
      " 1   Platform         16956 non-null  object \n",
      " 2   Year of Release  16681 non-null  float64\n",
      " 3   Genre            16954 non-null  object \n",
      " 4   NA sales         16956 non-null  float64\n",
      " 5   EU sales         16956 non-null  object \n",
      " 6   JP sales         16956 non-null  object \n",
      " 7   Other sales      16956 non-null  float64\n",
      " 8   Critic Score     8242 non-null   float64\n",
      " 9   User Score       10152 non-null  object \n",
      " 10  Rating           10085 non-null  object \n",
      "dtypes: float64(4), object(7)\n",
      "memory usage: 1.4+ MB\n"
     ]
    }
   ],
   "source": [
    "# Выведем общую информацию о данных в датафрейме\n",
    "games_df.info()"
   ]
  },
  {
   "cell_type": "markdown",
   "id": "fae0ebaa-5016-4bfc-af78-695e847140e2",
   "metadata": {
    "id": "81651b8d"
   },
   "source": [
    "Датасет `new_games.csv` содержит 16956 строк и 11 столбцов, в которых представлена информация об играх.\n",
    "\n",
    "***Изучим типы данных и их корректность:***\n",
    "\n",
    "В датасете присутствуют данные двух типов - вещественного **float64** и строкового **object**.\n",
    "\n",
    "Столбцы `Name`, `Platform`, `Genre`, `Rating` содержат название игры, название платформы, жанр игры и нечисловой рейтинг организации ESRB соответственно и задаются подходящим строковым типом данных **object**.\n",
    "\n",
    "Столбцы `EU sales`, `JP sales` содержат информацию о количестве продаж, но представлены строковым типом **object** и требуют преобразования в подходящий для этого тип данных **float64**.\n",
    "\n",
    "Столбец `User Score` хранит информацию об оценках игр пользователей в строковом типе **object**, преобразуем его в **float64**, так как оценка может быть вещественным числом от 0 до 10.\n",
    "\n",
    "Для столбца `Year of Release` с годом выпуска игры наиболее подходящим будет тип **int16**, а не **float64**, которым он представлен сейчас.\n",
    "\n",
    "Столбец `Critic Score` с оценкой критиков также преобразуем к **int8**, так как **float64** не подходит для целых чисел от 0 до 100.\n",
    "\n",
    "Остальные столбцы `NA sales` и `Other sales` с информацией о продажах заданы подходящих типом данных **float64**.\n"
   ]
  },
  {
   "cell_type": "markdown",
   "id": "a2fdb4aa",
   "metadata": {},
   "source": [
    "***Изучим названия столбцов датасета:***\n",
    "\n",
    "В написании названий столбцов не прослеживается единого стиля. Приведем все названия столбцов к общепринятому стилю написания snake_case."
   ]
  },
  {
   "cell_type": "markdown",
   "id": "5696126e-222b-44be-b3c7-528753fab3ee",
   "metadata": {},
   "source": [
    "***Оценим датасет на наличие пропусков:***\n",
    "\n",
    "6 из 11 столбцов содержат пропуски: `Name`, `Year of Release`, `Genre`, `Critic Score`, `User Score`, `Rating`."
   ]
  },
  {
   "cell_type": "markdown",
   "id": "e1122ba5-0657-4539-86a9-cc7998c157eb",
   "metadata": {},
   "source": [
    "***Посмотрим на уникальные значения некоторых столбцов для дальнейшего преобразования типов:***"
   ]
  },
  {
   "cell_type": "code",
   "execution_count": 5,
   "id": "086cda7e-e5da-4a60-9a2e-1103d9454017",
   "metadata": {},
   "outputs": [
    {
     "data": {
      "text/plain": [
       "array(['28.96', '3.58', '12.76', '10.93', '8.89', '2.26', '9.14', '9.18',\n",
       "       '6.94', '0.63', '10.95', '7.47', '6.18', '8.03', '4.89', '8.49',\n",
       "       '9.09', '0.4', '3.75', '9.2', '4.46', '2.71', '3.44', '5.14',\n",
       "       '5.49', '3.9', '5.35', '3.17', '5.09', '4.24', '5.04', '5.86',\n",
       "       '3.68', '4.19', '5.73', '3.59', '4.51', '2.55', '4.02', '4.37',\n",
       "       '6.31', '3.45', '2.81', '2.85', '3.49', '0.01', '3.35', '2.04',\n",
       "       '3.07', '3.87', '3.0', '4.82', '3.64', '2.15', '3.69', '2.65',\n",
       "       '2.56', '3.11', '3.14', '1.94', '1.95', '2.47', '2.28', '3.42',\n",
       "       '3.63', '2.36', '1.71', '1.85', '2.79', '1.24', '6.12', '1.53',\n",
       "       '3.47', '2.24', '5.01', '2.01', '1.72', '2.07', '6.42', '3.86',\n",
       "       '0.45', '3.48', '1.89', '5.75', '2.17', '1.37', '2.35', '1.18',\n",
       "       '2.11', '1.88', '2.83', '2.99', '2.89', '3.27', '2.22', '2.14',\n",
       "       '1.45', '1.75', '1.04', '1.77', '3.02', '2.75', '2.16', '1.9',\n",
       "       '2.59', '2.2', '4.3', '0.93', '2.53', '2.52', '1.79', '1.3', '2.6',\n",
       "       '1.58', '1.2', '1.56', '1.34', '1.26', '0.83', '6.21', '2.8',\n",
       "       '1.59', '1.73', '4.33', '1.83', '0.0', '2.18', '1.98', '1.47',\n",
       "       '0.67', '1.55', '1.91', '0.69', '0.6', '1.93', '1.64', '0.55',\n",
       "       '2.19', '1.11', '2.29', '2.5', '0.96', '1.21', '1.12', '0.77',\n",
       "       '1.69', '1.08', '0.79', '2.37', '2.46', '0.26', '0.75', '1.25',\n",
       "       '2.43', '0.98', '0.74', '2.23', '0.61', '2.45', '1.41', '1.8',\n",
       "       '3.28', '1.16', '1.99', '1.38', '1.36', '1.17', '1.19', '0.99',\n",
       "       '1.68', '2.0', '1.33', '1.57', '1.48', '2.1', '1.27', '1.97',\n",
       "       '0.91', '1.39', '1.96', '0.24', '1.51', '0.14', '1.29', '2.39',\n",
       "       '1.03', '0.5', '0.58', '1.31', '2.02', '1.32', '1.01', '2.27',\n",
       "       '2.3', '1.82', '2.78', '0.44', '0.48', '0.27', '0.21', '2.48',\n",
       "       '0.51', '1.52', '0.04', '0.28', '1.35', '0.87', '2.13', '1.13',\n",
       "       '1.76', '0.76', '2.12', '0.66', '1.6', '1.44', '1.43', '1.7',\n",
       "       '0.47', '1.87', '0.86', '0.73', '1.28', '0.81', '1.09', '0.68',\n",
       "       '1.22', '1.4', '1.02', '1.49', '1.14', '0.49', '0.9', '0.38',\n",
       "       '1.42', '0.95', '1.62', '0.71', '1.05', '0.92', '0.33', '0.3',\n",
       "       '1.67', '1.0', '0.89', '0.1', '0.72', '0.59', '0.56', '0.16',\n",
       "       '0.97', '0.62', 'unknown', '0.85', '0.94', '0.88', '0.84', '1.06',\n",
       "       '0.2', '1.15', '0.8', '1.1', '0.7', '1.92', '0.32', '0.15', '0.53',\n",
       "       '0.09', '1.46', '0.29', '0.22', '1.23', '0.07', '0.17', '0.54',\n",
       "       '0.36', '0.31', '1.84', '0.52', '0.11', '0.64', '0.12', '2.05',\n",
       "       '1.63', '0.82', '0.08', '0.57', '1.65', '0.19', '0.02', '0.43',\n",
       "       '0.25', '1.5', '0.18', '0.39', '0.13', '1.07', '0.46', '0.41',\n",
       "       '0.06', '0.03', '0.37', '0.05', '0.23', '0.65', '0.42', '0.34',\n",
       "       '0.35', '0.78'], dtype=object)"
      ]
     },
     "execution_count": 5,
     "metadata": {},
     "output_type": "execute_result"
    }
   ],
   "source": [
    "games_df['EU sales'].unique()"
   ]
  },
  {
   "cell_type": "code",
   "execution_count": 6,
   "id": "b9956572-edf3-4699-9e54-e2dd8b9f0ce9",
   "metadata": {},
   "outputs": [
    {
     "data": {
      "text/plain": [
       "array(['3.77', '6.81', '3.79', '3.28', '10.22', '4.22', '6.5', '2.93',\n",
       "       '4.7', '0.28', '1.93', '4.13', '7.2', '3.6', '0.24', '2.53',\n",
       "       '0.98', '0.41', '3.54', '4.16', '6.04', '4.18', '3.84', '0.06',\n",
       "       '0.47', '5.38', '5.32', '5.65', '1.87', '0.13', '3.12', '0.36',\n",
       "       '0.11', '4.35', '0.65', '0.07', '0.08', '0.49', '0.3', '2.66',\n",
       "       '2.69', '0.48', '0.38', '5.33', '1.91', '3.96', '3.1', '1.1',\n",
       "       '1.2', '0.14', '2.54', '2.14', '0.81', '2.12', '0.44', '3.15',\n",
       "       '1.25', '0.04', '0.0', '2.47', '2.23', '1.69', '0.01', '3.0',\n",
       "       '0.02', '4.39', '1.98', '0.1', '3.81', '0.05', '2.49', '1.58',\n",
       "       '3.14', '2.73', '0.66', '0.22', '3.63', '1.45', '1.31', '2.43',\n",
       "       '0.7', '0.35', '1.4', '0.6', '2.26', '1.42', '1.28', '1.39',\n",
       "       '0.87', '0.17', '0.94', '0.19', '0.21', '1.6', '0.16', '1.03',\n",
       "       '0.25', '2.06', '1.49', '1.29', '0.09', '2.87', '0.03', '0.78',\n",
       "       '0.83', '2.33', '2.02', '1.36', '1.81', '1.97', '0.91', '0.99',\n",
       "       '0.95', '2.0', '1.01', '2.78', '2.11', '1.09', '0.2', '1.9',\n",
       "       '1.27', '3.61', '1.57', '2.2', '1.7', '1.08', '0.15', '1.11',\n",
       "       '0.29', '1.54', '0.12', '0.89', '4.87', '1.52', '1.32', '1.15',\n",
       "       '4.1', '1.46', '0.46', '1.05', '1.61', '0.26', '1.38', '0.62',\n",
       "       '0.73', '0.57', '0.31', '0.58', '1.76', '2.1', '0.9', '0.51',\n",
       "       '0.64', '2.46', '0.23', '0.37', '0.92', '1.07', '2.62', '1.12',\n",
       "       '0.54', '0.27', '0.59', '3.67', '0.55', '1.75', '3.44', '0.33',\n",
       "       '2.55', '2.32', '2.79', '0.74', '3.18', '0.82', '0.77', '0.4',\n",
       "       '2.35', '3.19', '0.8', '0.76', '3.03', '0.88', 'unknown', '0.45',\n",
       "       '1.16', '0.34', '1.19', '1.13', '2.13', '1.96', '0.71', '1.04',\n",
       "       '2.68', '0.68', '2.65', '0.96', '2.41', '0.52', '0.18', '1.34',\n",
       "       '1.48', '2.34', '1.06', '1.21', '2.29', '1.63', '2.05', '2.17',\n",
       "       '1.56', '1.35', '1.33', '0.63', '0.79', '0.75', '0.53', '1.53',\n",
       "       '1.3', '0.39', '0.69', '0.42', '0.93', '0.56', '0.84', '0.72',\n",
       "       '0.32', '1.71', '1.65', '0.61', '1.51', '1.5', '1.44', '1.24',\n",
       "       '1.18', '1.37', '1.0', '1.26', '0.85', '0.43', '0.67', '1.14',\n",
       "       '0.86', '1.17', '0.5', '1.02', '0.97'], dtype=object)"
      ]
     },
     "execution_count": 6,
     "metadata": {},
     "output_type": "execute_result"
    }
   ],
   "source": [
    "games_df['JP sales'].unique()"
   ]
  },
  {
   "cell_type": "code",
   "execution_count": 7,
   "id": "292da6d8-b48b-41c9-b583-5da18236b574",
   "metadata": {},
   "outputs": [
    {
     "data": {
      "text/plain": [
       "array(['8', nan, '8.3', '8.5', '6.6', '8.4', '8.6', '7.7', '6.3', '7.4',\n",
       "       '8.2', '9', '7.9', '8.1', '8.7', '7.1', '3.4', '5.3', '4.8', '3.2',\n",
       "       '8.9', '6.4', '7.8', '7.5', '2.6', '7.2', '9.2', '7', '7.3', '4.3',\n",
       "       '7.6', '5.7', '5', '9.1', '6.5', 'tbd', '8.8', '6.9', '9.4', '6.8',\n",
       "       '6.1', '6.7', '5.4', '4', '4.9', '4.5', '9.3', '6.2', '4.2', '6',\n",
       "       '3.7', '4.1', '5.8', '5.6', '5.5', '4.4', '4.6', '5.9', '3.9',\n",
       "       '3.1', '2.9', '5.2', '3.3', '4.7', '5.1', '3.5', '2.5', '1.9', '3',\n",
       "       '2.7', '2.2', '2', '9.5', '2.1', '3.6', '2.8', '1.8', '3.8', '0',\n",
       "       '1.6', '9.6', '2.4', '1.7', '1.1', '0.3', '1.5', '0.7', '1.2',\n",
       "       '2.3', '0.5', '1.3', '0.2', '0.6', '1.4', '0.9', '1', '9.7'],\n",
       "      dtype=object)"
      ]
     },
     "execution_count": 7,
     "metadata": {},
     "output_type": "execute_result"
    }
   ],
   "source": [
    "games_df['User Score'].unique()"
   ]
  },
  {
   "cell_type": "markdown",
   "id": "c950150d-311b-49c0-9f00-cf2ca12c0b10",
   "metadata": {},
   "source": [
    "Cтолбцы `EU sales`, `JP sales` содержат строковые значения 'unknown', а столбец `User Score` - 'tbd'. Это необходимо учесть при приведении типов."
   ]
  },
  {
   "cell_type": "markdown",
   "id": "c3c591d0-04a9-44b1-bdec-736b4424f9fd",
   "metadata": {},
   "source": [
    "## 2. Проверка ошибок в данных и их предобработка"
   ]
  },
  {
   "cell_type": "markdown",
   "id": "90ca199f-fa05-43c6-abb7-fe4bf5025840",
   "metadata": {},
   "source": [
    "### 2.1. Названия, или метки, столбцов датафрейма\n",
    "\n",
    "Приведем названия столбцов датафрейма к единому общепринятому стилю."
   ]
  },
  {
   "cell_type": "code",
   "execution_count": 8,
   "id": "b9276a2b",
   "metadata": {
    "id": "b9276a2b"
   },
   "outputs": [
    {
     "data": {
      "text/plain": [
       "Index(['Name', 'Platform', 'Year of Release', 'Genre', 'NA sales', 'EU sales',\n",
       "       'JP sales', 'Other sales', 'Critic Score', 'User Score', 'Rating'],\n",
       "      dtype='object')"
      ]
     },
     "execution_count": 8,
     "metadata": {},
     "output_type": "execute_result"
    }
   ],
   "source": [
    "# Выведем названия всех столбцов датафрейма и проверим их стиль написания\n",
    "games_df.columns"
   ]
  },
  {
   "cell_type": "code",
   "execution_count": 9,
   "id": "d554563c",
   "metadata": {
    "id": "d554563c"
   },
   "outputs": [],
   "source": [
    "# Приведем названия всех столбцов к стилю snake case\n",
    "games_df.columns = games_df.columns.str.lower().str.replace(' ', '_')"
   ]
  },
  {
   "cell_type": "code",
   "execution_count": 10,
   "id": "a645e3e8-e5e2-4e83-b07a-cbf97c44cbcb",
   "metadata": {},
   "outputs": [
    {
     "data": {
      "text/plain": [
       "Index(['name', 'platform', 'year_of_release', 'genre', 'na_sales', 'eu_sales',\n",
       "       'jp_sales', 'other_sales', 'critic_score', 'user_score', 'rating'],\n",
       "      dtype='object')"
      ]
     },
     "execution_count": 10,
     "metadata": {},
     "output_type": "execute_result"
    }
   ],
   "source": [
    "games_df.columns"
   ]
  },
  {
   "cell_type": "markdown",
   "id": "41bc6bf8",
   "metadata": {
    "id": "41bc6bf8"
   },
   "source": [
    "### 2.2. Типы данных\n",
    "\n",
    "Проведем преобразование типов данных.\n"
   ]
  },
  {
   "cell_type": "code",
   "execution_count": 11,
   "id": "90d4cd25-0f66-4903-b09c-c47bb6f7b556",
   "metadata": {},
   "outputs": [],
   "source": [
    "# Столбец year_of_release имеет тип float64, вероятно, по причине наличия пропусков в нем. \n",
    "# Преобразуем его тип к int16, обрабатывая при этом пропуски путем присвоения значения-индикатора = -1.\n",
    "games_df['year_of_release'] = games_df['year_of_release'].fillna(-1).astype('int16')"
   ]
  },
  {
   "cell_type": "code",
   "execution_count": 12,
   "id": "e4fad478-17eb-46e9-a1ce-a0685056807e",
   "metadata": {},
   "outputs": [],
   "source": [
    "# Столбцы eu_sales, jp_sales изначально имеют строковый тип данных из-за наличия строковых значений 'unknown'.\n",
    "# Приводим данные этих столбцов к типу float64, присваивая содержащимся в них строковым значениям 'unknown' пропуски:\n",
    "games_df['eu_sales'] = pd.to_numeric(games_df['eu_sales'], errors='coerce')\n",
    "games_df['jp_sales'] = pd.to_numeric(games_df['jp_sales'], errors='coerce')"
   ]
  },
  {
   "cell_type": "code",
   "execution_count": 13,
   "id": "6d517cfd-e304-4efb-bbf5-49cf5e460771",
   "metadata": {},
   "outputs": [],
   "source": [
    "# Столбец critic_score приводим к int8, задавая пропускам на данном этапе значение-индикатор = -1.\n",
    "games_df['critic_score'] = games_df['critic_score'].fillna(-1).astype('int8')"
   ]
  },
  {
   "cell_type": "code",
   "execution_count": 14,
   "id": "b7912dae-268c-4e7f-ae7e-3306ba7f8656",
   "metadata": {},
   "outputs": [],
   "source": [
    "# Столбец user_score приводим к float64, присваивая содержащимся в нем строковым значениям 'tbd' пропуски:\n",
    "games_df['user_score'] = pd.to_numeric(games_df['user_score'], errors='coerce')"
   ]
  },
  {
   "cell_type": "code",
   "execution_count": 15,
   "id": "ff329692-855a-45cf-b4e1-17e384ca0ec6",
   "metadata": {},
   "outputs": [
    {
     "name": "stdout",
     "output_type": "stream",
     "text": [
      "<class 'pandas.core.frame.DataFrame'>\n",
      "RangeIndex: 16956 entries, 0 to 16955\n",
      "Data columns (total 11 columns):\n",
      " #   Column           Non-Null Count  Dtype  \n",
      "---  ------           --------------  -----  \n",
      " 0   name             16954 non-null  object \n",
      " 1   platform         16956 non-null  object \n",
      " 2   year_of_release  16956 non-null  int16  \n",
      " 3   genre            16954 non-null  object \n",
      " 4   na_sales         16956 non-null  float64\n",
      " 5   eu_sales         16950 non-null  float64\n",
      " 6   jp_sales         16952 non-null  float64\n",
      " 7   other_sales      16956 non-null  float64\n",
      " 8   critic_score     16956 non-null  int8   \n",
      " 9   user_score       7688 non-null   float64\n",
      " 10  rating           10085 non-null  object \n",
      "dtypes: float64(5), int16(1), int8(1), object(4)\n",
      "memory usage: 1.2+ MB\n"
     ]
    }
   ],
   "source": [
    "# Выведем общую информацию о датасете после проведения всех преобразований:\n",
    "games_df.info()"
   ]
  },
  {
   "cell_type": "markdown",
   "id": "71562440-70ab-47c9-a532-b404f6bccd2d",
   "metadata": {},
   "source": [
    "Теперь наши данные имеют подходящие для проведения анализа типы.\n",
    "\n",
    "Но необходимо помнить о пропусках и присвоенных им значениях-индикаторах (-1 в столбцах year_of_release и critic_score)."
   ]
  },
  {
   "cell_type": "markdown",
   "id": "b39893cb",
   "metadata": {
    "id": "b39893cb"
   },
   "source": [
    "### 2.3. Наличие пропусков в данных"
   ]
  },
  {
   "cell_type": "code",
   "execution_count": 16,
   "id": "899351a3-da31-414e-945c-fdae368a6d88",
   "metadata": {},
   "outputs": [
    {
     "name": "stdout",
     "output_type": "stream",
     "text": [
      "Абсолютное число пропусков:\n",
      "name              2\n",
      "platform          0\n",
      "genre             2\n",
      "na_sales          0\n",
      "eu_sales          6\n",
      "jp_sales          4\n",
      "other_sales       0\n",
      "user_score     9268\n",
      "rating         6871\n",
      "dtype: int64\n",
      "\n",
      "Относительное число пропусков:\n",
      "name            0.011795\n",
      "platform        0.000000\n",
      "genre           0.011795\n",
      "na_sales        0.000000\n",
      "eu_sales        0.035386\n",
      "jp_sales        0.023590\n",
      "other_sales     0.000000\n",
      "user_score     54.659118\n",
      "rating         40.522529\n",
      "dtype: float64\n"
     ]
    }
   ],
   "source": [
    "# Посчитаем количество пропусков в столбцах name, platform, genre, na_sales, eu_sales, jp_sales, other_sales, user_score, rating \n",
    "# в абсолютных значениях и относительных\n",
    "print('Абсолютное число пропусков:\\n', games_df[['name', 'platform', 'genre', 'na_sales', 'eu_sales',\n",
    "       'jp_sales', 'other_sales', 'user_score', 'rating']].isna().sum(), sep='')\n",
    "\n",
    "print('\\nОтносительное число пропусков:\\n', games_df[['name', 'platform', 'genre', 'na_sales', 'eu_sales',\n",
    "       'jp_sales', 'other_sales', 'user_score', 'rating']].isna().sum() / len(games_df) * 100, sep='')"
   ]
  },
  {
   "cell_type": "code",
   "execution_count": 17,
   "id": "b445452c-49ff-4bdc-88d6-29a1751c63ca",
   "metadata": {},
   "outputs": [
    {
     "name": "stdout",
     "output_type": "stream",
     "text": [
      "Абсолютное число пропусков:\n",
      "year_of_release    275\n",
      "critic_score       8714\n",
      "\n",
      "Относительное число пропусков:\n",
      "year_of_release    1.6218447747110165\n",
      "critic_score       51.39183769757019\n"
     ]
    }
   ],
   "source": [
    "# В столбцах year_of_release, critic_score пропуски заменены на -1, посчитаем, сколько строк содержат -1:\n",
    "print('Абсолютное число пропусков:')\n",
    "print(f\"year_of_release    {len(games_df[games_df['year_of_release'] < 0])}\")\n",
    "print(f\"critic_score       {len(games_df[games_df['critic_score'] < 0])}\")\n",
    "print('\\nОтносительное число пропусков:')\n",
    "print(f\"year_of_release    {len(games_df[games_df['year_of_release'] < 0]) / len(games_df) * 100}\")\n",
    "print(f\"critic_score       {len(games_df[games_df['critic_score'] < 0]) / len(games_df) * 100}\")"
   ]
  },
  {
   "cell_type": "markdown",
   "id": "dbfc2bac-55e5-4916-b8ca-76653cc5d9e3",
   "metadata": {
    "id": "e8412c01"
   },
   "source": [
    "Пропуски содержатся в столбцах `name`, `genre`, `eu_sales`, `jp_sales`, `user_score`, `rating`, `year_of_release`, `critic_score`. \n",
    "\n",
    "Процент пропусков в столбцах `name`, `genre`, `eu_sales`, `jp_sales` невелик, и составляет менее 1% данных, пропуски в этих столбцах можно удалить. \n",
    "\n",
    "Процент пропущенных значений в столбцах `user_score`, `rating`, `year_of_release`, `critic_score` очень значительный,  более 50, и просто удалить эти данные из датасета без искажения результатов исследования нельзя.\n",
    "\n",
    "Выявить закономерности распределения пропусков в данных от присутсвующих столбцов не удается. Можно только заметить, что в большинстве случаев (6772 строки), если отсутствует какая-либо оценка, то они отсутствуют все - `user_score`, `rating`, `critic_score`. Возможно, данные собирались из источника, где информации об оценках могло не быть. \n",
    "\n",
    "Заменим в таком случае пропуски расчетными усредненными значениями:\n",
    "\n",
    "- для года выпуска для замены пропусков примем наиболее богатый на выпуски игр год,\n",
    "\n",
    "- для оценок - медиану в зависимости от жанра игры,\n",
    "\n",
    "- для рейтинга - моду в зависимости от жанра игры."
   ]
  },
  {
   "cell_type": "code",
   "execution_count": 18,
   "id": "440ec329-b735-4b09-aaa9-380df991d5f4",
   "metadata": {},
   "outputs": [],
   "source": [
    "# Удалим строки с пропусками в столбцах name, genre, eu_sales, jp_sales:\n",
    "games_df = games_df.dropna(subset=['name', 'genre', 'eu_sales', 'jp_sales']) "
   ]
  },
  {
   "cell_type": "code",
   "execution_count": 19,
   "id": "f53fd620-b3b8-4e63-9d1a-3530f34f0768",
   "metadata": {},
   "outputs": [],
   "source": [
    "# Заменим пропуски в столбце year_of_release модой, учитывая, что -1 обозначает пропуск для данного столбца:\n",
    "games_df['year_of_release'] = games_df['year_of_release'].replace(-1, int(games_df['year_of_release'].mode()[0]))"
   ]
  },
  {
   "cell_type": "code",
   "execution_count": 20,
   "id": "a681b4a7-b29d-4aef-a86e-4b076bfd0a0c",
   "metadata": {},
   "outputs": [
    {
     "name": "stdout",
     "output_type": "stream",
     "text": [
      "Названия жанров до нормализации - присутствуют повторяющиеся в различных стилях написания:\n"
     ]
    },
    {
     "data": {
      "text/plain": [
       "array(['Sports', 'Platform', 'Racing', 'Role-Playing', 'Puzzle', 'Misc',\n",
       "       'Shooter', 'Simulation', 'Action', 'Fighting', 'Adventure',\n",
       "       'Strategy', 'MISC', 'ROLE-PLAYING', 'RACING', 'ACTION', 'SHOOTER',\n",
       "       'FIGHTING', 'SPORTS', 'PLATFORM', 'ADVENTURE', 'SIMULATION',\n",
       "       'PUZZLE', 'STRATEGY'], dtype=object)"
      ]
     },
     "execution_count": 20,
     "metadata": {},
     "output_type": "execute_result"
    }
   ],
   "source": [
    "# Для заполнения пропусков в столбцах user_score, critic_score будем использовать группировку данных по жанру,\n",
    "# поэтому необходимо сначала нормализовать названия жанров и тем самым избавиться от дубликатов, если таковые имеются:\n",
    "print('Названия жанров до нормализации - присутствуют повторяющиеся в различных стилях написания:')\n",
    "games_df['genre'].unique()"
   ]
  },
  {
   "cell_type": "code",
   "execution_count": 21,
   "id": "78bd4228-ad3c-47c0-a7f4-d7719947a950",
   "metadata": {},
   "outputs": [
    {
     "data": {
      "text/plain": [
       "array(['sports', 'platform', 'racing', 'role-playing', 'puzzle', 'misc',\n",
       "       'shooter', 'simulation', 'action', 'fighting', 'adventure',\n",
       "       'strategy'], dtype=object)"
      ]
     },
     "execution_count": 21,
     "metadata": {},
     "output_type": "execute_result"
    }
   ],
   "source": [
    "# Приводим названия жанров к нижнему регистру:\n",
    "games_df['genre'] = games_df['genre'].str.lower()\n",
    "games_df['genre'].unique()"
   ]
  },
  {
   "cell_type": "code",
   "execution_count": 22,
   "id": "14e20879-8fc9-45e5-a497-1d8211dd2200",
   "metadata": {},
   "outputs": [],
   "source": [
    "# Заменим пропуски в столбцах user_score медианной оценкой по жанру:\n",
    "games_df['user_score'] = games_df['user_score'].fillna(games_df.groupby('genre')['user_score'].transform('median'))"
   ]
  },
  {
   "cell_type": "code",
   "execution_count": 23,
   "id": "99062fc7-9ea3-44c0-98b7-5940d7bc53f7",
   "metadata": {},
   "outputs": [],
   "source": [
    "# Заменим пропуски в столбцах critic_score медианной оценкой по жанру (пропуск здесь = -1):\n",
    "temp = games_df[games_df['critic_score'] > 0]\n",
    "def med_group_critic_score(row):  \n",
    "    if row['critic_score'] == -1:\n",
    "        group = temp[(temp['genre'] == row['genre'])]\n",
    "        return int(group['critic_score'].median())\n",
    "    else:\n",
    "        return row['critic_score']\n",
    "        \n",
    "games_df['critic_score'] = games_df.apply(med_group_critic_score, axis=1)"
   ]
  },
  {
   "cell_type": "code",
   "execution_count": 24,
   "id": "3c9fe708-932c-4fb3-9be7-f8e0af0dfbd0",
   "metadata": {},
   "outputs": [],
   "source": [
    "# Заменим пропуски в столбце rating модой в зависимости от жанра игры:\n",
    "games_df['rating'] = games_df['rating'].fillna(games_df.groupby('genre')['rating'].transform(lambda x: x.mode()[0]))"
   ]
  },
  {
   "cell_type": "code",
   "execution_count": 25,
   "id": "ff077a51-d92d-4482-a223-245a6a91c485",
   "metadata": {},
   "outputs": [
    {
     "data": {
      "text/plain": [
       "name               0\n",
       "platform           0\n",
       "year_of_release    0\n",
       "genre              0\n",
       "na_sales           0\n",
       "eu_sales           0\n",
       "jp_sales           0\n",
       "other_sales        0\n",
       "critic_score       0\n",
       "user_score         0\n",
       "rating             0\n",
       "dtype: int64"
      ]
     },
     "execution_count": 25,
     "metadata": {},
     "output_type": "execute_result"
    }
   ],
   "source": [
    "# Проверим, что пропусков в датасете не осталось:\n",
    "games_df.isna().sum()"
   ]
  },
  {
   "cell_type": "markdown",
   "id": "a63363fd",
   "metadata": {
    "id": "a63363fd"
   },
   "source": [
    "### 2.4. Явные и неявные дубликаты в данных"
   ]
  },
  {
   "cell_type": "code",
   "execution_count": 26,
   "id": "491c9c39",
   "metadata": {
    "id": "491c9c39"
   },
   "outputs": [
    {
     "data": {
      "text/plain": [
       "array(['Wii', 'NES', 'GB', 'DS', 'X360', 'PS3', 'PS2', 'SNES', 'GBA',\n",
       "       'PS4', '3DS', 'N64', 'PS', 'XB', 'PC', '2600', 'PSP', 'XOne',\n",
       "       'WiiU', 'GC', 'GEN', 'DC', 'PSV', 'SAT', 'SCD', 'WS', 'NG', 'TG16',\n",
       "       '3DO', 'GG', 'PCFX'], dtype=object)"
      ]
     },
     "execution_count": 26,
     "metadata": {},
     "output_type": "execute_result"
    }
   ],
   "source": [
    "# Изучим уникальные значения в столбцах с категориальными данными на предмет неявных дубликатов:\n",
    "games_df['platform'].unique()"
   ]
  },
  {
   "cell_type": "code",
   "execution_count": 27,
   "id": "e1944a31-2f5b-4fe5-86f4-e60c16f86504",
   "metadata": {},
   "outputs": [
    {
     "data": {
      "text/plain": [
       "array(['sports', 'platform', 'racing', 'role-playing', 'puzzle', 'misc',\n",
       "       'shooter', 'simulation', 'action', 'fighting', 'adventure',\n",
       "       'strategy'], dtype=object)"
      ]
     },
     "execution_count": 27,
     "metadata": {},
     "output_type": "execute_result"
    }
   ],
   "source": [
    "games_df['genre'].unique()"
   ]
  },
  {
   "cell_type": "code",
   "execution_count": 28,
   "id": "b625cb53-c5d1-4e61-bb82-5e09306190bc",
   "metadata": {},
   "outputs": [
    {
     "data": {
      "text/plain": [
       "array(['E', 'T', 'M', 'E10+', 'K-A', 'AO', 'EC', 'RP'], dtype=object)"
      ]
     },
     "execution_count": 28,
     "metadata": {},
     "output_type": "execute_result"
    }
   ],
   "source": [
    "games_df['rating'].unique()"
   ]
  },
  {
   "cell_type": "markdown",
   "id": "fc3d3db4",
   "metadata": {
    "id": "fc3d3db4"
   },
   "source": [
    "Названия платформ, жанров, рейтинга имеют одинаковый стиль написания, нет необходимости в обработке."
   ]
  },
  {
   "cell_type": "markdown",
   "id": "4c5239b4-8917-45a8-a070-abcf48c2be91",
   "metadata": {
    "id": "fc5c91b5"
   },
   "source": [
    "Проверим датасет на наличие явных дубликатов."
   ]
  },
  {
   "cell_type": "code",
   "execution_count": 29,
   "id": "2f61e076",
   "metadata": {
    "id": "2f61e076"
   },
   "outputs": [
    {
     "data": {
      "text/plain": [
       "241"
      ]
     },
     "execution_count": 29,
     "metadata": {},
     "output_type": "execute_result"
    }
   ],
   "source": [
    "games_df.duplicated().sum() "
   ]
  },
  {
   "cell_type": "markdown",
   "id": "c8816289-e583-4065-87a7-648c1ca36656",
   "metadata": {},
   "source": [
    "Нашелся 241 явный дубликат. Удалим их."
   ]
  },
  {
   "cell_type": "code",
   "execution_count": 30,
   "id": "b9342e06-79ac-428e-8a89-3cae7cdd7612",
   "metadata": {},
   "outputs": [],
   "source": [
    "games_df = games_df.drop_duplicates() "
   ]
  },
  {
   "cell_type": "code",
   "execution_count": 31,
   "id": "c0aaa877-3aeb-4f99-b8b2-2e5ec285846c",
   "metadata": {},
   "outputs": [
    {
     "data": {
      "text/html": [
       "<div>\n",
       "<style scoped>\n",
       "    .dataframe tbody tr th:only-of-type {\n",
       "        vertical-align: middle;\n",
       "    }\n",
       "\n",
       "    .dataframe tbody tr th {\n",
       "        vertical-align: top;\n",
       "    }\n",
       "\n",
       "    .dataframe thead th {\n",
       "        text-align: right;\n",
       "    }\n",
       "</style>\n",
       "<table border=\"1\" class=\"dataframe\">\n",
       "  <thead>\n",
       "    <tr style=\"text-align: right;\">\n",
       "      <th></th>\n",
       "      <th>name</th>\n",
       "      <th>platform</th>\n",
       "      <th>year_of_release</th>\n",
       "      <th>genre</th>\n",
       "      <th>na_sales</th>\n",
       "      <th>eu_sales</th>\n",
       "      <th>jp_sales</th>\n",
       "      <th>other_sales</th>\n",
       "      <th>critic_score</th>\n",
       "      <th>user_score</th>\n",
       "      <th>rating</th>\n",
       "    </tr>\n",
       "  </thead>\n",
       "  <tbody>\n",
       "    <tr>\n",
       "      <th>0</th>\n",
       "      <td>Wii Sports</td>\n",
       "      <td>Wii</td>\n",
       "      <td>2006</td>\n",
       "      <td>sports</td>\n",
       "      <td>41.36</td>\n",
       "      <td>28.96</td>\n",
       "      <td>3.77</td>\n",
       "      <td>8.45</td>\n",
       "      <td>76</td>\n",
       "      <td>8.0</td>\n",
       "      <td>E</td>\n",
       "    </tr>\n",
       "    <tr>\n",
       "      <th>1</th>\n",
       "      <td>Super Mario Bros.</td>\n",
       "      <td>NES</td>\n",
       "      <td>1985</td>\n",
       "      <td>platform</td>\n",
       "      <td>29.08</td>\n",
       "      <td>3.58</td>\n",
       "      <td>6.81</td>\n",
       "      <td>0.77</td>\n",
       "      <td>69</td>\n",
       "      <td>7.7</td>\n",
       "      <td>E</td>\n",
       "    </tr>\n",
       "    <tr>\n",
       "      <th>2</th>\n",
       "      <td>Mario Kart Wii</td>\n",
       "      <td>Wii</td>\n",
       "      <td>2008</td>\n",
       "      <td>racing</td>\n",
       "      <td>15.68</td>\n",
       "      <td>12.76</td>\n",
       "      <td>3.79</td>\n",
       "      <td>3.29</td>\n",
       "      <td>82</td>\n",
       "      <td>8.3</td>\n",
       "      <td>E</td>\n",
       "    </tr>\n",
       "    <tr>\n",
       "      <th>3</th>\n",
       "      <td>Wii Sports Resort</td>\n",
       "      <td>Wii</td>\n",
       "      <td>2009</td>\n",
       "      <td>sports</td>\n",
       "      <td>15.61</td>\n",
       "      <td>10.93</td>\n",
       "      <td>3.28</td>\n",
       "      <td>2.95</td>\n",
       "      <td>80</td>\n",
       "      <td>8.0</td>\n",
       "      <td>E</td>\n",
       "    </tr>\n",
       "    <tr>\n",
       "      <th>4</th>\n",
       "      <td>Pokemon Red/Pokemon Blue</td>\n",
       "      <td>GB</td>\n",
       "      <td>1996</td>\n",
       "      <td>role-playing</td>\n",
       "      <td>11.27</td>\n",
       "      <td>8.89</td>\n",
       "      <td>10.22</td>\n",
       "      <td>1.00</td>\n",
       "      <td>74</td>\n",
       "      <td>7.8</td>\n",
       "      <td>T</td>\n",
       "    </tr>\n",
       "    <tr>\n",
       "      <th>...</th>\n",
       "      <td>...</td>\n",
       "      <td>...</td>\n",
       "      <td>...</td>\n",
       "      <td>...</td>\n",
       "      <td>...</td>\n",
       "      <td>...</td>\n",
       "      <td>...</td>\n",
       "      <td>...</td>\n",
       "      <td>...</td>\n",
       "      <td>...</td>\n",
       "      <td>...</td>\n",
       "    </tr>\n",
       "    <tr>\n",
       "      <th>16951</th>\n",
       "      <td>Samurai Warriors: Sanada Maru</td>\n",
       "      <td>PS3</td>\n",
       "      <td>2016</td>\n",
       "      <td>action</td>\n",
       "      <td>0.00</td>\n",
       "      <td>0.00</td>\n",
       "      <td>0.01</td>\n",
       "      <td>0.00</td>\n",
       "      <td>68</td>\n",
       "      <td>7.3</td>\n",
       "      <td>T</td>\n",
       "    </tr>\n",
       "    <tr>\n",
       "      <th>16952</th>\n",
       "      <td>LMA Manager 2007</td>\n",
       "      <td>X360</td>\n",
       "      <td>2006</td>\n",
       "      <td>sports</td>\n",
       "      <td>0.00</td>\n",
       "      <td>0.01</td>\n",
       "      <td>0.00</td>\n",
       "      <td>0.00</td>\n",
       "      <td>75</td>\n",
       "      <td>7.4</td>\n",
       "      <td>E</td>\n",
       "    </tr>\n",
       "    <tr>\n",
       "      <th>16953</th>\n",
       "      <td>Haitaka no Psychedelica</td>\n",
       "      <td>PSV</td>\n",
       "      <td>2016</td>\n",
       "      <td>adventure</td>\n",
       "      <td>0.00</td>\n",
       "      <td>0.00</td>\n",
       "      <td>0.01</td>\n",
       "      <td>0.00</td>\n",
       "      <td>66</td>\n",
       "      <td>7.6</td>\n",
       "      <td>E</td>\n",
       "    </tr>\n",
       "    <tr>\n",
       "      <th>16954</th>\n",
       "      <td>Spirits &amp; Spells</td>\n",
       "      <td>GBA</td>\n",
       "      <td>2003</td>\n",
       "      <td>platform</td>\n",
       "      <td>0.01</td>\n",
       "      <td>0.00</td>\n",
       "      <td>0.00</td>\n",
       "      <td>0.00</td>\n",
       "      <td>69</td>\n",
       "      <td>7.7</td>\n",
       "      <td>E</td>\n",
       "    </tr>\n",
       "    <tr>\n",
       "      <th>16955</th>\n",
       "      <td>Winning Post 8 2016</td>\n",
       "      <td>PSV</td>\n",
       "      <td>2016</td>\n",
       "      <td>simulation</td>\n",
       "      <td>0.00</td>\n",
       "      <td>0.00</td>\n",
       "      <td>0.01</td>\n",
       "      <td>0.00</td>\n",
       "      <td>70</td>\n",
       "      <td>7.5</td>\n",
       "      <td>E</td>\n",
       "    </tr>\n",
       "  </tbody>\n",
       "</table>\n",
       "<p>16703 rows × 11 columns</p>\n",
       "</div>"
      ],
      "text/plain": [
       "                                name platform  year_of_release         genre  \\\n",
       "0                         Wii Sports      Wii             2006        sports   \n",
       "1                  Super Mario Bros.      NES             1985      platform   \n",
       "2                     Mario Kart Wii      Wii             2008        racing   \n",
       "3                  Wii Sports Resort      Wii             2009        sports   \n",
       "4           Pokemon Red/Pokemon Blue       GB             1996  role-playing   \n",
       "...                              ...      ...              ...           ...   \n",
       "16951  Samurai Warriors: Sanada Maru      PS3             2016        action   \n",
       "16952               LMA Manager 2007     X360             2006        sports   \n",
       "16953        Haitaka no Psychedelica      PSV             2016     adventure   \n",
       "16954               Spirits & Spells      GBA             2003      platform   \n",
       "16955            Winning Post 8 2016      PSV             2016    simulation   \n",
       "\n",
       "       na_sales  eu_sales  jp_sales  other_sales  critic_score  user_score  \\\n",
       "0         41.36     28.96      3.77         8.45            76         8.0   \n",
       "1         29.08      3.58      6.81         0.77            69         7.7   \n",
       "2         15.68     12.76      3.79         3.29            82         8.3   \n",
       "3         15.61     10.93      3.28         2.95            80         8.0   \n",
       "4         11.27      8.89     10.22         1.00            74         7.8   \n",
       "...         ...       ...       ...          ...           ...         ...   \n",
       "16951      0.00      0.00      0.01         0.00            68         7.3   \n",
       "16952      0.00      0.01      0.00         0.00            75         7.4   \n",
       "16953      0.00      0.00      0.01         0.00            66         7.6   \n",
       "16954      0.01      0.00      0.00         0.00            69         7.7   \n",
       "16955      0.00      0.00      0.01         0.00            70         7.5   \n",
       "\n",
       "      rating  \n",
       "0          E  \n",
       "1          E  \n",
       "2          E  \n",
       "3          E  \n",
       "4          T  \n",
       "...      ...  \n",
       "16951      T  \n",
       "16952      E  \n",
       "16953      E  \n",
       "16954      E  \n",
       "16955      E  \n",
       "\n",
       "[16703 rows x 11 columns]"
      ]
     },
     "execution_count": 31,
     "metadata": {},
     "output_type": "execute_result"
    }
   ],
   "source": [
    "games_df"
   ]
  },
  {
   "cell_type": "markdown",
   "id": "fb42f0e0",
   "metadata": {},
   "source": [
    "Теперь проверим датасет на неявные дубликаты, которые могли появиться в случаях, когда данные собирались из разных источников или в системе были какие-то сбои при логировании."
   ]
  },
  {
   "cell_type": "code",
   "execution_count": 32,
   "id": "e9dfbffd",
   "metadata": {},
   "outputs": [
    {
     "data": {
      "text/html": [
       "<div>\n",
       "<style scoped>\n",
       "    .dataframe tbody tr th:only-of-type {\n",
       "        vertical-align: middle;\n",
       "    }\n",
       "\n",
       "    .dataframe tbody tr th {\n",
       "        vertical-align: top;\n",
       "    }\n",
       "\n",
       "    .dataframe thead th {\n",
       "        text-align: right;\n",
       "    }\n",
       "</style>\n",
       "<table border=\"1\" class=\"dataframe\">\n",
       "  <thead>\n",
       "    <tr style=\"text-align: right;\">\n",
       "      <th></th>\n",
       "      <th>name</th>\n",
       "      <th>platform</th>\n",
       "      <th>year_of_release</th>\n",
       "      <th>genre</th>\n",
       "      <th>na_sales</th>\n",
       "      <th>eu_sales</th>\n",
       "      <th>jp_sales</th>\n",
       "      <th>other_sales</th>\n",
       "      <th>critic_score</th>\n",
       "      <th>user_score</th>\n",
       "      <th>rating</th>\n",
       "    </tr>\n",
       "  </thead>\n",
       "  <tbody>\n",
       "    <tr>\n",
       "      <th>606</th>\n",
       "      <td>Madden NFL 13</td>\n",
       "      <td>PS3</td>\n",
       "      <td>2012</td>\n",
       "      <td>sports</td>\n",
       "      <td>2.11</td>\n",
       "      <td>0.22</td>\n",
       "      <td>0.0</td>\n",
       "      <td>0.23</td>\n",
       "      <td>83</td>\n",
       "      <td>5.5</td>\n",
       "      <td>E</td>\n",
       "    </tr>\n",
       "    <tr>\n",
       "      <th>16465</th>\n",
       "      <td>Madden NFL 13</td>\n",
       "      <td>PS3</td>\n",
       "      <td>2012</td>\n",
       "      <td>sports</td>\n",
       "      <td>0.00</td>\n",
       "      <td>0.01</td>\n",
       "      <td>0.0</td>\n",
       "      <td>0.00</td>\n",
       "      <td>83</td>\n",
       "      <td>5.5</td>\n",
       "      <td>E</td>\n",
       "    </tr>\n",
       "  </tbody>\n",
       "</table>\n",
       "</div>"
      ],
      "text/plain": [
       "                name platform  year_of_release   genre  na_sales  eu_sales  \\\n",
       "606    Madden NFL 13      PS3             2012  sports      2.11      0.22   \n",
       "16465  Madden NFL 13      PS3             2012  sports      0.00      0.01   \n",
       "\n",
       "       jp_sales  other_sales  critic_score  user_score rating  \n",
       "606         0.0         0.23            83         5.5      E  \n",
       "16465       0.0         0.00            83         5.5      E  "
      ]
     },
     "execution_count": 32,
     "metadata": {},
     "output_type": "execute_result"
    }
   ],
   "source": [
    "games_df[games_df.duplicated(subset=['name', 'platform', 'year_of_release', 'genre'], keep=False)]"
   ]
  },
  {
   "cell_type": "markdown",
   "id": "7ade9fe6",
   "metadata": {},
   "source": [
    "Найдены две строки для игры 'Madden NFL 13' 2012 года для PS3 в жанре sports с сильно разными данными по продажам. Причин появления данных строк может быть много. Например, данные собирались из разных источников или в системе были какие-то сбои при логировании. Так как мы не знаем, причину дублирования строк и данные сильно разнятся, исключим из анализа обе строки."
   ]
  },
  {
   "cell_type": "code",
   "execution_count": 33,
   "id": "ebe5540e",
   "metadata": {},
   "outputs": [],
   "source": [
    "games_df = games_df.drop_duplicates(subset=['name', 'platform', 'year_of_release', 'genre'], keep=False) "
   ]
  },
  {
   "cell_type": "code",
   "execution_count": 34,
   "id": "181c796b",
   "metadata": {},
   "outputs": [
    {
     "data": {
      "text/plain": [
       "(16701, 11)"
      ]
     },
     "execution_count": 34,
     "metadata": {},
     "output_type": "execute_result"
    }
   ],
   "source": [
    "games_df.shape"
   ]
  },
  {
   "cell_type": "markdown",
   "id": "07282bf2-59f0-4863-ad27-5d23fac0332d",
   "metadata": {},
   "source": [
    "После всех выполненных преобразований в датасете осталось 16701 строка. Изначально датасет содержал 16956 строк. Таким образом, было удалено 255 строк с данными (~1.5%)."
   ]
  },
  {
   "cell_type": "markdown",
   "id": "47613d75",
   "metadata": {
    "id": "47613d75"
   },
   "source": [
    "--------------"
   ]
  },
  {
   "cell_type": "markdown",
   "id": "4045ef26-ed85-4b28-ad73-417a9c99a390",
   "metadata": {
    "id": "5166fdf8"
   },
   "source": [
    "Предобработка данных датасета `games_df` завершена. \n",
    "\n",
    "В ходе подготовки данных датасета к анализу: \n",
    "- преобразованы типы данных к оптимальным;\n",
    "- обработаны все пропущенные значения, лишь незначительное число пропусков (~2%) было удалено, остальные отсутствующие значения восстановлены из данных датасета по усредненным значениям;\n",
    "- удалены явные и неявные дубликаты."
   ]
  },
  {
   "cell_type": "markdown",
   "id": "613f0eb0",
   "metadata": {
    "id": "613f0eb0"
   },
   "source": [
    "---\n",
    "\n",
    "## 3. Фильтрация данных\n",
    "\n",
    "Коллеги хотят изучить историю продаж игр в начале XXI века, и их интересует период с 2000 по 2013 год включительно. Отберем данные по этому показателю. Сохраним новый срез данных в отдельном датафрейме `games_df_actual`."
   ]
  },
  {
   "cell_type": "code",
   "execution_count": 35,
   "id": "2344916d",
   "metadata": {
    "id": "2344916d"
   },
   "outputs": [],
   "source": [
    "games_df_actual = games_df[(games_df['year_of_release'] >= 2000) & (games_df['year_of_release'] <= 2013)]"
   ]
  },
  {
   "cell_type": "code",
   "execution_count": 36,
   "id": "44d7529f",
   "metadata": {
    "id": "44d7529f"
   },
   "outputs": [],
   "source": [
    "games_df_actual = games_df_actual.copy()"
   ]
  },
  {
   "cell_type": "code",
   "execution_count": 37,
   "id": "97e3128a-5a51-48da-a9f4-064d12c5eb6c",
   "metadata": {},
   "outputs": [
    {
     "data": {
      "text/html": [
       "<div>\n",
       "<style scoped>\n",
       "    .dataframe tbody tr th:only-of-type {\n",
       "        vertical-align: middle;\n",
       "    }\n",
       "\n",
       "    .dataframe tbody tr th {\n",
       "        vertical-align: top;\n",
       "    }\n",
       "\n",
       "    .dataframe thead th {\n",
       "        text-align: right;\n",
       "    }\n",
       "</style>\n",
       "<table border=\"1\" class=\"dataframe\">\n",
       "  <thead>\n",
       "    <tr style=\"text-align: right;\">\n",
       "      <th></th>\n",
       "      <th>name</th>\n",
       "      <th>platform</th>\n",
       "      <th>year_of_release</th>\n",
       "      <th>genre</th>\n",
       "      <th>na_sales</th>\n",
       "      <th>eu_sales</th>\n",
       "      <th>jp_sales</th>\n",
       "      <th>other_sales</th>\n",
       "      <th>critic_score</th>\n",
       "      <th>user_score</th>\n",
       "      <th>rating</th>\n",
       "    </tr>\n",
       "  </thead>\n",
       "  <tbody>\n",
       "    <tr>\n",
       "      <th>0</th>\n",
       "      <td>Wii Sports</td>\n",
       "      <td>Wii</td>\n",
       "      <td>2006</td>\n",
       "      <td>sports</td>\n",
       "      <td>41.36</td>\n",
       "      <td>28.96</td>\n",
       "      <td>3.77</td>\n",
       "      <td>8.45</td>\n",
       "      <td>76</td>\n",
       "      <td>8.0</td>\n",
       "      <td>E</td>\n",
       "    </tr>\n",
       "    <tr>\n",
       "      <th>2</th>\n",
       "      <td>Mario Kart Wii</td>\n",
       "      <td>Wii</td>\n",
       "      <td>2008</td>\n",
       "      <td>racing</td>\n",
       "      <td>15.68</td>\n",
       "      <td>12.76</td>\n",
       "      <td>3.79</td>\n",
       "      <td>3.29</td>\n",
       "      <td>82</td>\n",
       "      <td>8.3</td>\n",
       "      <td>E</td>\n",
       "    </tr>\n",
       "    <tr>\n",
       "      <th>3</th>\n",
       "      <td>Wii Sports Resort</td>\n",
       "      <td>Wii</td>\n",
       "      <td>2009</td>\n",
       "      <td>sports</td>\n",
       "      <td>15.61</td>\n",
       "      <td>10.93</td>\n",
       "      <td>3.28</td>\n",
       "      <td>2.95</td>\n",
       "      <td>80</td>\n",
       "      <td>8.0</td>\n",
       "      <td>E</td>\n",
       "    </tr>\n",
       "    <tr>\n",
       "      <th>6</th>\n",
       "      <td>New Super Mario Bros.</td>\n",
       "      <td>DS</td>\n",
       "      <td>2006</td>\n",
       "      <td>platform</td>\n",
       "      <td>11.28</td>\n",
       "      <td>9.14</td>\n",
       "      <td>6.50</td>\n",
       "      <td>2.88</td>\n",
       "      <td>89</td>\n",
       "      <td>8.5</td>\n",
       "      <td>E</td>\n",
       "    </tr>\n",
       "    <tr>\n",
       "      <th>7</th>\n",
       "      <td>Wii Play</td>\n",
       "      <td>Wii</td>\n",
       "      <td>2006</td>\n",
       "      <td>misc</td>\n",
       "      <td>13.96</td>\n",
       "      <td>9.18</td>\n",
       "      <td>2.93</td>\n",
       "      <td>2.84</td>\n",
       "      <td>58</td>\n",
       "      <td>6.6</td>\n",
       "      <td>E</td>\n",
       "    </tr>\n",
       "    <tr>\n",
       "      <th>...</th>\n",
       "      <td>...</td>\n",
       "      <td>...</td>\n",
       "      <td>...</td>\n",
       "      <td>...</td>\n",
       "      <td>...</td>\n",
       "      <td>...</td>\n",
       "      <td>...</td>\n",
       "      <td>...</td>\n",
       "      <td>...</td>\n",
       "      <td>...</td>\n",
       "      <td>...</td>\n",
       "    </tr>\n",
       "    <tr>\n",
       "      <th>16947</th>\n",
       "      <td>Men in Black II: Alien Escape</td>\n",
       "      <td>GC</td>\n",
       "      <td>2003</td>\n",
       "      <td>shooter</td>\n",
       "      <td>0.01</td>\n",
       "      <td>0.00</td>\n",
       "      <td>0.00</td>\n",
       "      <td>0.00</td>\n",
       "      <td>73</td>\n",
       "      <td>7.4</td>\n",
       "      <td>T</td>\n",
       "    </tr>\n",
       "    <tr>\n",
       "      <th>16949</th>\n",
       "      <td>Woody Woodpecker in Crazy Castle 5</td>\n",
       "      <td>GBA</td>\n",
       "      <td>2002</td>\n",
       "      <td>platform</td>\n",
       "      <td>0.01</td>\n",
       "      <td>0.00</td>\n",
       "      <td>0.00</td>\n",
       "      <td>0.00</td>\n",
       "      <td>69</td>\n",
       "      <td>7.7</td>\n",
       "      <td>E</td>\n",
       "    </tr>\n",
       "    <tr>\n",
       "      <th>16950</th>\n",
       "      <td>SCORE International Baja 1000: The Official Game</td>\n",
       "      <td>PS2</td>\n",
       "      <td>2008</td>\n",
       "      <td>racing</td>\n",
       "      <td>0.00</td>\n",
       "      <td>0.00</td>\n",
       "      <td>0.00</td>\n",
       "      <td>0.00</td>\n",
       "      <td>69</td>\n",
       "      <td>7.4</td>\n",
       "      <td>E</td>\n",
       "    </tr>\n",
       "    <tr>\n",
       "      <th>16952</th>\n",
       "      <td>LMA Manager 2007</td>\n",
       "      <td>X360</td>\n",
       "      <td>2006</td>\n",
       "      <td>sports</td>\n",
       "      <td>0.00</td>\n",
       "      <td>0.01</td>\n",
       "      <td>0.00</td>\n",
       "      <td>0.00</td>\n",
       "      <td>75</td>\n",
       "      <td>7.4</td>\n",
       "      <td>E</td>\n",
       "    </tr>\n",
       "    <tr>\n",
       "      <th>16954</th>\n",
       "      <td>Spirits &amp; Spells</td>\n",
       "      <td>GBA</td>\n",
       "      <td>2003</td>\n",
       "      <td>platform</td>\n",
       "      <td>0.01</td>\n",
       "      <td>0.00</td>\n",
       "      <td>0.00</td>\n",
       "      <td>0.00</td>\n",
       "      <td>69</td>\n",
       "      <td>7.7</td>\n",
       "      <td>E</td>\n",
       "    </tr>\n",
       "  </tbody>\n",
       "</table>\n",
       "<p>13039 rows × 11 columns</p>\n",
       "</div>"
      ],
      "text/plain": [
       "                                                   name platform  \\\n",
       "0                                            Wii Sports      Wii   \n",
       "2                                        Mario Kart Wii      Wii   \n",
       "3                                     Wii Sports Resort      Wii   \n",
       "6                                 New Super Mario Bros.       DS   \n",
       "7                                              Wii Play      Wii   \n",
       "...                                                 ...      ...   \n",
       "16947                     Men in Black II: Alien Escape       GC   \n",
       "16949                Woody Woodpecker in Crazy Castle 5      GBA   \n",
       "16950  SCORE International Baja 1000: The Official Game      PS2   \n",
       "16952                                  LMA Manager 2007     X360   \n",
       "16954                                  Spirits & Spells      GBA   \n",
       "\n",
       "       year_of_release     genre  na_sales  eu_sales  jp_sales  other_sales  \\\n",
       "0                 2006    sports     41.36     28.96      3.77         8.45   \n",
       "2                 2008    racing     15.68     12.76      3.79         3.29   \n",
       "3                 2009    sports     15.61     10.93      3.28         2.95   \n",
       "6                 2006  platform     11.28      9.14      6.50         2.88   \n",
       "7                 2006      misc     13.96      9.18      2.93         2.84   \n",
       "...                ...       ...       ...       ...       ...          ...   \n",
       "16947             2003   shooter      0.01      0.00      0.00         0.00   \n",
       "16949             2002  platform      0.01      0.00      0.00         0.00   \n",
       "16950             2008    racing      0.00      0.00      0.00         0.00   \n",
       "16952             2006    sports      0.00      0.01      0.00         0.00   \n",
       "16954             2003  platform      0.01      0.00      0.00         0.00   \n",
       "\n",
       "       critic_score  user_score rating  \n",
       "0                76         8.0      E  \n",
       "2                82         8.3      E  \n",
       "3                80         8.0      E  \n",
       "6                89         8.5      E  \n",
       "7                58         6.6      E  \n",
       "...             ...         ...    ...  \n",
       "16947            73         7.4      T  \n",
       "16949            69         7.7      E  \n",
       "16950            69         7.4      E  \n",
       "16952            75         7.4      E  \n",
       "16954            69         7.7      E  \n",
       "\n",
       "[13039 rows x 11 columns]"
      ]
     },
     "execution_count": 37,
     "metadata": {},
     "output_type": "execute_result"
    }
   ],
   "source": [
    "games_df_actual"
   ]
  },
  {
   "cell_type": "markdown",
   "id": "a6f10b01",
   "metadata": {
    "id": "a6f10b01"
   },
   "source": [
    "---\n",
    "\n",
    "## 4. Категоризация данных\n",
    "    \n",
    "Проведем категоризацию данных:\n",
    "- Разделим все игры по оценкам пользователей и выделим такие категории: **высокая оценка** (от 8 до 10 включительно), **средняя оценка** (от 3 до 8, не включая правую границу интервала) и **низкая оценка** (от 0 до 3, не включая правую границу интервала)."
   ]
  },
  {
   "cell_type": "code",
   "execution_count": 38,
   "id": "3db87229",
   "metadata": {
    "id": "3db87229"
   },
   "outputs": [],
   "source": [
    "games_df_actual['user_score_cat'] = pd.cut(games_df_actual['user_score'], bins=[0, 3, 8, 10], labels=['низкая оценка', 'средняя оценка', 'высокая оценка'], right=False)"
   ]
  },
  {
   "cell_type": "code",
   "execution_count": 39,
   "id": "9b0ca0f2",
   "metadata": {
    "id": "9b0ca0f2"
   },
   "outputs": [
    {
     "data": {
      "text/html": [
       "<div>\n",
       "<style scoped>\n",
       "    .dataframe tbody tr th:only-of-type {\n",
       "        vertical-align: middle;\n",
       "    }\n",
       "\n",
       "    .dataframe tbody tr th {\n",
       "        vertical-align: top;\n",
       "    }\n",
       "\n",
       "    .dataframe thead th {\n",
       "        text-align: right;\n",
       "    }\n",
       "</style>\n",
       "<table border=\"1\" class=\"dataframe\">\n",
       "  <thead>\n",
       "    <tr style=\"text-align: right;\">\n",
       "      <th></th>\n",
       "      <th>name</th>\n",
       "      <th>platform</th>\n",
       "      <th>year_of_release</th>\n",
       "      <th>genre</th>\n",
       "      <th>na_sales</th>\n",
       "      <th>eu_sales</th>\n",
       "      <th>jp_sales</th>\n",
       "      <th>other_sales</th>\n",
       "      <th>critic_score</th>\n",
       "      <th>user_score</th>\n",
       "      <th>rating</th>\n",
       "      <th>user_score_cat</th>\n",
       "    </tr>\n",
       "  </thead>\n",
       "  <tbody>\n",
       "    <tr>\n",
       "      <th>0</th>\n",
       "      <td>Wii Sports</td>\n",
       "      <td>Wii</td>\n",
       "      <td>2006</td>\n",
       "      <td>sports</td>\n",
       "      <td>41.36</td>\n",
       "      <td>28.96</td>\n",
       "      <td>3.77</td>\n",
       "      <td>8.45</td>\n",
       "      <td>76</td>\n",
       "      <td>8.0</td>\n",
       "      <td>E</td>\n",
       "      <td>высокая оценка</td>\n",
       "    </tr>\n",
       "    <tr>\n",
       "      <th>2</th>\n",
       "      <td>Mario Kart Wii</td>\n",
       "      <td>Wii</td>\n",
       "      <td>2008</td>\n",
       "      <td>racing</td>\n",
       "      <td>15.68</td>\n",
       "      <td>12.76</td>\n",
       "      <td>3.79</td>\n",
       "      <td>3.29</td>\n",
       "      <td>82</td>\n",
       "      <td>8.3</td>\n",
       "      <td>E</td>\n",
       "      <td>высокая оценка</td>\n",
       "    </tr>\n",
       "    <tr>\n",
       "      <th>3</th>\n",
       "      <td>Wii Sports Resort</td>\n",
       "      <td>Wii</td>\n",
       "      <td>2009</td>\n",
       "      <td>sports</td>\n",
       "      <td>15.61</td>\n",
       "      <td>10.93</td>\n",
       "      <td>3.28</td>\n",
       "      <td>2.95</td>\n",
       "      <td>80</td>\n",
       "      <td>8.0</td>\n",
       "      <td>E</td>\n",
       "      <td>высокая оценка</td>\n",
       "    </tr>\n",
       "    <tr>\n",
       "      <th>6</th>\n",
       "      <td>New Super Mario Bros.</td>\n",
       "      <td>DS</td>\n",
       "      <td>2006</td>\n",
       "      <td>platform</td>\n",
       "      <td>11.28</td>\n",
       "      <td>9.14</td>\n",
       "      <td>6.50</td>\n",
       "      <td>2.88</td>\n",
       "      <td>89</td>\n",
       "      <td>8.5</td>\n",
       "      <td>E</td>\n",
       "      <td>высокая оценка</td>\n",
       "    </tr>\n",
       "    <tr>\n",
       "      <th>7</th>\n",
       "      <td>Wii Play</td>\n",
       "      <td>Wii</td>\n",
       "      <td>2006</td>\n",
       "      <td>misc</td>\n",
       "      <td>13.96</td>\n",
       "      <td>9.18</td>\n",
       "      <td>2.93</td>\n",
       "      <td>2.84</td>\n",
       "      <td>58</td>\n",
       "      <td>6.6</td>\n",
       "      <td>E</td>\n",
       "      <td>средняя оценка</td>\n",
       "    </tr>\n",
       "    <tr>\n",
       "      <th>...</th>\n",
       "      <td>...</td>\n",
       "      <td>...</td>\n",
       "      <td>...</td>\n",
       "      <td>...</td>\n",
       "      <td>...</td>\n",
       "      <td>...</td>\n",
       "      <td>...</td>\n",
       "      <td>...</td>\n",
       "      <td>...</td>\n",
       "      <td>...</td>\n",
       "      <td>...</td>\n",
       "      <td>...</td>\n",
       "    </tr>\n",
       "    <tr>\n",
       "      <th>16947</th>\n",
       "      <td>Men in Black II: Alien Escape</td>\n",
       "      <td>GC</td>\n",
       "      <td>2003</td>\n",
       "      <td>shooter</td>\n",
       "      <td>0.01</td>\n",
       "      <td>0.00</td>\n",
       "      <td>0.00</td>\n",
       "      <td>0.00</td>\n",
       "      <td>73</td>\n",
       "      <td>7.4</td>\n",
       "      <td>T</td>\n",
       "      <td>средняя оценка</td>\n",
       "    </tr>\n",
       "    <tr>\n",
       "      <th>16949</th>\n",
       "      <td>Woody Woodpecker in Crazy Castle 5</td>\n",
       "      <td>GBA</td>\n",
       "      <td>2002</td>\n",
       "      <td>platform</td>\n",
       "      <td>0.01</td>\n",
       "      <td>0.00</td>\n",
       "      <td>0.00</td>\n",
       "      <td>0.00</td>\n",
       "      <td>69</td>\n",
       "      <td>7.7</td>\n",
       "      <td>E</td>\n",
       "      <td>средняя оценка</td>\n",
       "    </tr>\n",
       "    <tr>\n",
       "      <th>16950</th>\n",
       "      <td>SCORE International Baja 1000: The Official Game</td>\n",
       "      <td>PS2</td>\n",
       "      <td>2008</td>\n",
       "      <td>racing</td>\n",
       "      <td>0.00</td>\n",
       "      <td>0.00</td>\n",
       "      <td>0.00</td>\n",
       "      <td>0.00</td>\n",
       "      <td>69</td>\n",
       "      <td>7.4</td>\n",
       "      <td>E</td>\n",
       "      <td>средняя оценка</td>\n",
       "    </tr>\n",
       "    <tr>\n",
       "      <th>16952</th>\n",
       "      <td>LMA Manager 2007</td>\n",
       "      <td>X360</td>\n",
       "      <td>2006</td>\n",
       "      <td>sports</td>\n",
       "      <td>0.00</td>\n",
       "      <td>0.01</td>\n",
       "      <td>0.00</td>\n",
       "      <td>0.00</td>\n",
       "      <td>75</td>\n",
       "      <td>7.4</td>\n",
       "      <td>E</td>\n",
       "      <td>средняя оценка</td>\n",
       "    </tr>\n",
       "    <tr>\n",
       "      <th>16954</th>\n",
       "      <td>Spirits &amp; Spells</td>\n",
       "      <td>GBA</td>\n",
       "      <td>2003</td>\n",
       "      <td>platform</td>\n",
       "      <td>0.01</td>\n",
       "      <td>0.00</td>\n",
       "      <td>0.00</td>\n",
       "      <td>0.00</td>\n",
       "      <td>69</td>\n",
       "      <td>7.7</td>\n",
       "      <td>E</td>\n",
       "      <td>средняя оценка</td>\n",
       "    </tr>\n",
       "  </tbody>\n",
       "</table>\n",
       "<p>13039 rows × 12 columns</p>\n",
       "</div>"
      ],
      "text/plain": [
       "                                                   name platform  \\\n",
       "0                                            Wii Sports      Wii   \n",
       "2                                        Mario Kart Wii      Wii   \n",
       "3                                     Wii Sports Resort      Wii   \n",
       "6                                 New Super Mario Bros.       DS   \n",
       "7                                              Wii Play      Wii   \n",
       "...                                                 ...      ...   \n",
       "16947                     Men in Black II: Alien Escape       GC   \n",
       "16949                Woody Woodpecker in Crazy Castle 5      GBA   \n",
       "16950  SCORE International Baja 1000: The Official Game      PS2   \n",
       "16952                                  LMA Manager 2007     X360   \n",
       "16954                                  Spirits & Spells      GBA   \n",
       "\n",
       "       year_of_release     genre  na_sales  eu_sales  jp_sales  other_sales  \\\n",
       "0                 2006    sports     41.36     28.96      3.77         8.45   \n",
       "2                 2008    racing     15.68     12.76      3.79         3.29   \n",
       "3                 2009    sports     15.61     10.93      3.28         2.95   \n",
       "6                 2006  platform     11.28      9.14      6.50         2.88   \n",
       "7                 2006      misc     13.96      9.18      2.93         2.84   \n",
       "...                ...       ...       ...       ...       ...          ...   \n",
       "16947             2003   shooter      0.01      0.00      0.00         0.00   \n",
       "16949             2002  platform      0.01      0.00      0.00         0.00   \n",
       "16950             2008    racing      0.00      0.00      0.00         0.00   \n",
       "16952             2006    sports      0.00      0.01      0.00         0.00   \n",
       "16954             2003  platform      0.01      0.00      0.00         0.00   \n",
       "\n",
       "       critic_score  user_score rating  user_score_cat  \n",
       "0                76         8.0      E  высокая оценка  \n",
       "2                82         8.3      E  высокая оценка  \n",
       "3                80         8.0      E  высокая оценка  \n",
       "6                89         8.5      E  высокая оценка  \n",
       "7                58         6.6      E  средняя оценка  \n",
       "...             ...         ...    ...             ...  \n",
       "16947            73         7.4      T  средняя оценка  \n",
       "16949            69         7.7      E  средняя оценка  \n",
       "16950            69         7.4      E  средняя оценка  \n",
       "16952            75         7.4      E  средняя оценка  \n",
       "16954            69         7.7      E  средняя оценка  \n",
       "\n",
       "[13039 rows x 12 columns]"
      ]
     },
     "execution_count": 39,
     "metadata": {},
     "output_type": "execute_result"
    }
   ],
   "source": [
    "games_df_actual"
   ]
  },
  {
   "cell_type": "markdown",
   "id": "f8f34b40",
   "metadata": {
    "id": "f8f34b40"
   },
   "source": [
    "- Разделим все игры по оценкам критиков и выделим такие категории: **высокая оценка** (от 80 до 100 включительно), **средняя оценка** (от 30 до 80, не включая правую границу интервала) и **низкая оценка** (от 0 до 30, не включая правую границу интервала)."
   ]
  },
  {
   "cell_type": "code",
   "execution_count": 40,
   "id": "548fde17",
   "metadata": {
    "id": "548fde17"
   },
   "outputs": [],
   "source": [
    "games_df_actual['critic_score_cat'] = pd.cut(games_df_actual['critic_score'], bins=[0, 30, 80, 100], labels=['низкая оценка', 'средняя оценка', 'высокая оценка'], right=False)"
   ]
  },
  {
   "cell_type": "code",
   "execution_count": 41,
   "id": "d136d06b",
   "metadata": {
    "id": "d136d06b"
   },
   "outputs": [
    {
     "data": {
      "text/html": [
       "<div>\n",
       "<style scoped>\n",
       "    .dataframe tbody tr th:only-of-type {\n",
       "        vertical-align: middle;\n",
       "    }\n",
       "\n",
       "    .dataframe tbody tr th {\n",
       "        vertical-align: top;\n",
       "    }\n",
       "\n",
       "    .dataframe thead th {\n",
       "        text-align: right;\n",
       "    }\n",
       "</style>\n",
       "<table border=\"1\" class=\"dataframe\">\n",
       "  <thead>\n",
       "    <tr style=\"text-align: right;\">\n",
       "      <th></th>\n",
       "      <th>name</th>\n",
       "      <th>platform</th>\n",
       "      <th>year_of_release</th>\n",
       "      <th>genre</th>\n",
       "      <th>na_sales</th>\n",
       "      <th>eu_sales</th>\n",
       "      <th>jp_sales</th>\n",
       "      <th>other_sales</th>\n",
       "      <th>critic_score</th>\n",
       "      <th>user_score</th>\n",
       "      <th>rating</th>\n",
       "      <th>user_score_cat</th>\n",
       "      <th>critic_score_cat</th>\n",
       "    </tr>\n",
       "  </thead>\n",
       "  <tbody>\n",
       "    <tr>\n",
       "      <th>0</th>\n",
       "      <td>Wii Sports</td>\n",
       "      <td>Wii</td>\n",
       "      <td>2006</td>\n",
       "      <td>sports</td>\n",
       "      <td>41.36</td>\n",
       "      <td>28.96</td>\n",
       "      <td>3.77</td>\n",
       "      <td>8.45</td>\n",
       "      <td>76</td>\n",
       "      <td>8.0</td>\n",
       "      <td>E</td>\n",
       "      <td>высокая оценка</td>\n",
       "      <td>средняя оценка</td>\n",
       "    </tr>\n",
       "    <tr>\n",
       "      <th>2</th>\n",
       "      <td>Mario Kart Wii</td>\n",
       "      <td>Wii</td>\n",
       "      <td>2008</td>\n",
       "      <td>racing</td>\n",
       "      <td>15.68</td>\n",
       "      <td>12.76</td>\n",
       "      <td>3.79</td>\n",
       "      <td>3.29</td>\n",
       "      <td>82</td>\n",
       "      <td>8.3</td>\n",
       "      <td>E</td>\n",
       "      <td>высокая оценка</td>\n",
       "      <td>высокая оценка</td>\n",
       "    </tr>\n",
       "    <tr>\n",
       "      <th>3</th>\n",
       "      <td>Wii Sports Resort</td>\n",
       "      <td>Wii</td>\n",
       "      <td>2009</td>\n",
       "      <td>sports</td>\n",
       "      <td>15.61</td>\n",
       "      <td>10.93</td>\n",
       "      <td>3.28</td>\n",
       "      <td>2.95</td>\n",
       "      <td>80</td>\n",
       "      <td>8.0</td>\n",
       "      <td>E</td>\n",
       "      <td>высокая оценка</td>\n",
       "      <td>высокая оценка</td>\n",
       "    </tr>\n",
       "    <tr>\n",
       "      <th>6</th>\n",
       "      <td>New Super Mario Bros.</td>\n",
       "      <td>DS</td>\n",
       "      <td>2006</td>\n",
       "      <td>platform</td>\n",
       "      <td>11.28</td>\n",
       "      <td>9.14</td>\n",
       "      <td>6.50</td>\n",
       "      <td>2.88</td>\n",
       "      <td>89</td>\n",
       "      <td>8.5</td>\n",
       "      <td>E</td>\n",
       "      <td>высокая оценка</td>\n",
       "      <td>высокая оценка</td>\n",
       "    </tr>\n",
       "    <tr>\n",
       "      <th>7</th>\n",
       "      <td>Wii Play</td>\n",
       "      <td>Wii</td>\n",
       "      <td>2006</td>\n",
       "      <td>misc</td>\n",
       "      <td>13.96</td>\n",
       "      <td>9.18</td>\n",
       "      <td>2.93</td>\n",
       "      <td>2.84</td>\n",
       "      <td>58</td>\n",
       "      <td>6.6</td>\n",
       "      <td>E</td>\n",
       "      <td>средняя оценка</td>\n",
       "      <td>средняя оценка</td>\n",
       "    </tr>\n",
       "    <tr>\n",
       "      <th>...</th>\n",
       "      <td>...</td>\n",
       "      <td>...</td>\n",
       "      <td>...</td>\n",
       "      <td>...</td>\n",
       "      <td>...</td>\n",
       "      <td>...</td>\n",
       "      <td>...</td>\n",
       "      <td>...</td>\n",
       "      <td>...</td>\n",
       "      <td>...</td>\n",
       "      <td>...</td>\n",
       "      <td>...</td>\n",
       "      <td>...</td>\n",
       "    </tr>\n",
       "    <tr>\n",
       "      <th>16947</th>\n",
       "      <td>Men in Black II: Alien Escape</td>\n",
       "      <td>GC</td>\n",
       "      <td>2003</td>\n",
       "      <td>shooter</td>\n",
       "      <td>0.01</td>\n",
       "      <td>0.00</td>\n",
       "      <td>0.00</td>\n",
       "      <td>0.00</td>\n",
       "      <td>73</td>\n",
       "      <td>7.4</td>\n",
       "      <td>T</td>\n",
       "      <td>средняя оценка</td>\n",
       "      <td>средняя оценка</td>\n",
       "    </tr>\n",
       "    <tr>\n",
       "      <th>16949</th>\n",
       "      <td>Woody Woodpecker in Crazy Castle 5</td>\n",
       "      <td>GBA</td>\n",
       "      <td>2002</td>\n",
       "      <td>platform</td>\n",
       "      <td>0.01</td>\n",
       "      <td>0.00</td>\n",
       "      <td>0.00</td>\n",
       "      <td>0.00</td>\n",
       "      <td>69</td>\n",
       "      <td>7.7</td>\n",
       "      <td>E</td>\n",
       "      <td>средняя оценка</td>\n",
       "      <td>средняя оценка</td>\n",
       "    </tr>\n",
       "    <tr>\n",
       "      <th>16950</th>\n",
       "      <td>SCORE International Baja 1000: The Official Game</td>\n",
       "      <td>PS2</td>\n",
       "      <td>2008</td>\n",
       "      <td>racing</td>\n",
       "      <td>0.00</td>\n",
       "      <td>0.00</td>\n",
       "      <td>0.00</td>\n",
       "      <td>0.00</td>\n",
       "      <td>69</td>\n",
       "      <td>7.4</td>\n",
       "      <td>E</td>\n",
       "      <td>средняя оценка</td>\n",
       "      <td>средняя оценка</td>\n",
       "    </tr>\n",
       "    <tr>\n",
       "      <th>16952</th>\n",
       "      <td>LMA Manager 2007</td>\n",
       "      <td>X360</td>\n",
       "      <td>2006</td>\n",
       "      <td>sports</td>\n",
       "      <td>0.00</td>\n",
       "      <td>0.01</td>\n",
       "      <td>0.00</td>\n",
       "      <td>0.00</td>\n",
       "      <td>75</td>\n",
       "      <td>7.4</td>\n",
       "      <td>E</td>\n",
       "      <td>средняя оценка</td>\n",
       "      <td>средняя оценка</td>\n",
       "    </tr>\n",
       "    <tr>\n",
       "      <th>16954</th>\n",
       "      <td>Spirits &amp; Spells</td>\n",
       "      <td>GBA</td>\n",
       "      <td>2003</td>\n",
       "      <td>platform</td>\n",
       "      <td>0.01</td>\n",
       "      <td>0.00</td>\n",
       "      <td>0.00</td>\n",
       "      <td>0.00</td>\n",
       "      <td>69</td>\n",
       "      <td>7.7</td>\n",
       "      <td>E</td>\n",
       "      <td>средняя оценка</td>\n",
       "      <td>средняя оценка</td>\n",
       "    </tr>\n",
       "  </tbody>\n",
       "</table>\n",
       "<p>13039 rows × 13 columns</p>\n",
       "</div>"
      ],
      "text/plain": [
       "                                                   name platform  \\\n",
       "0                                            Wii Sports      Wii   \n",
       "2                                        Mario Kart Wii      Wii   \n",
       "3                                     Wii Sports Resort      Wii   \n",
       "6                                 New Super Mario Bros.       DS   \n",
       "7                                              Wii Play      Wii   \n",
       "...                                                 ...      ...   \n",
       "16947                     Men in Black II: Alien Escape       GC   \n",
       "16949                Woody Woodpecker in Crazy Castle 5      GBA   \n",
       "16950  SCORE International Baja 1000: The Official Game      PS2   \n",
       "16952                                  LMA Manager 2007     X360   \n",
       "16954                                  Spirits & Spells      GBA   \n",
       "\n",
       "       year_of_release     genre  na_sales  eu_sales  jp_sales  other_sales  \\\n",
       "0                 2006    sports     41.36     28.96      3.77         8.45   \n",
       "2                 2008    racing     15.68     12.76      3.79         3.29   \n",
       "3                 2009    sports     15.61     10.93      3.28         2.95   \n",
       "6                 2006  platform     11.28      9.14      6.50         2.88   \n",
       "7                 2006      misc     13.96      9.18      2.93         2.84   \n",
       "...                ...       ...       ...       ...       ...          ...   \n",
       "16947             2003   shooter      0.01      0.00      0.00         0.00   \n",
       "16949             2002  platform      0.01      0.00      0.00         0.00   \n",
       "16950             2008    racing      0.00      0.00      0.00         0.00   \n",
       "16952             2006    sports      0.00      0.01      0.00         0.00   \n",
       "16954             2003  platform      0.01      0.00      0.00         0.00   \n",
       "\n",
       "       critic_score  user_score rating  user_score_cat critic_score_cat  \n",
       "0                76         8.0      E  высокая оценка   средняя оценка  \n",
       "2                82         8.3      E  высокая оценка   высокая оценка  \n",
       "3                80         8.0      E  высокая оценка   высокая оценка  \n",
       "6                89         8.5      E  высокая оценка   высокая оценка  \n",
       "7                58         6.6      E  средняя оценка   средняя оценка  \n",
       "...             ...         ...    ...             ...              ...  \n",
       "16947            73         7.4      T  средняя оценка   средняя оценка  \n",
       "16949            69         7.7      E  средняя оценка   средняя оценка  \n",
       "16950            69         7.4      E  средняя оценка   средняя оценка  \n",
       "16952            75         7.4      E  средняя оценка   средняя оценка  \n",
       "16954            69         7.7      E  средняя оценка   средняя оценка  \n",
       "\n",
       "[13039 rows x 13 columns]"
      ]
     },
     "execution_count": 41,
     "metadata": {},
     "output_type": "execute_result"
    }
   ],
   "source": [
    "games_df_actual"
   ]
  },
  {
   "cell_type": "code",
   "execution_count": 42,
   "id": "2cd40fde-a1cd-4b19-9ddf-6f7b1ecc17c1",
   "metadata": {
    "id": "olkTlTlAUDR9"
   },
   "outputs": [],
   "source": [
    "# После категоризации данных проверим результат: сгруппируем данные по выделенным категориям и посчитаем количество игр в каждой категории"
   ]
  },
  {
   "cell_type": "code",
   "execution_count": 43,
   "id": "HW0Nsp-4UMSL",
   "metadata": {
    "id": "HW0Nsp-4UMSL"
   },
   "outputs": [
    {
     "data": {
      "text/plain": [
       "user_score_cat\n",
       "низкая оценка       119\n",
       "средняя оценка    10594\n",
       "высокая оценка     2326\n",
       "Name: name, dtype: int64"
      ]
     },
     "execution_count": 43,
     "metadata": {},
     "output_type": "execute_result"
    }
   ],
   "source": [
    "games_df_actual.groupby('user_score_cat', observed=False)['name'].count()"
   ]
  },
  {
   "cell_type": "code",
   "execution_count": 44,
   "id": "U6kiXU3JUMCc",
   "metadata": {
    "id": "U6kiXU3JUMCc"
   },
   "outputs": [
    {
     "data": {
      "text/plain": [
       "critic_score_cat\n",
       "низкая оценка        58\n",
       "средняя оценка    11264\n",
       "высокая оценка     1717\n",
       "Name: name, dtype: int64"
      ]
     },
     "execution_count": 44,
     "metadata": {},
     "output_type": "execute_result"
    }
   ],
   "source": [
    "games_df_actual.groupby('critic_score_cat', observed=False)['name'].count()"
   ]
  },
  {
   "cell_type": "code",
   "execution_count": 45,
   "id": "87454594-ed0e-49bc-9ac6-f38ad6ad1364",
   "metadata": {},
   "outputs": [
    {
     "data": {
      "text/plain": [
       "(13039, 13039)"
      ]
     },
     "execution_count": 45,
     "metadata": {},
     "output_type": "execute_result"
    }
   ],
   "source": [
    "# В сумме должно быть 13039\n",
    "(games_df_actual.groupby('user_score_cat', observed=False)['name'].count().sum(), games_df_actual.groupby('critic_score_cat', observed=False)['name'].count().sum())"
   ]
  },
  {
   "cell_type": "markdown",
   "id": "6a98444c",
   "metadata": {
    "id": "6a98444c"
   },
   "source": [
    "- Выделим топ-7 платформ по количеству игр, выпущенных за весь актуальный период."
   ]
  },
  {
   "cell_type": "code",
   "execution_count": 46,
   "id": "003caa2c",
   "metadata": {
    "id": "003caa2c"
   },
   "outputs": [
    {
     "data": {
      "text/plain": [
       "platform\n",
       "PS2     2160\n",
       "DS      2147\n",
       "Wii     1309\n",
       "PSP     1195\n",
       "X360    1148\n",
       "PS3     1110\n",
       "XB       824\n",
       "Name: name, dtype: int64"
      ]
     },
     "execution_count": 46,
     "metadata": {},
     "output_type": "execute_result"
    }
   ],
   "source": [
    "games_df_actual.groupby('platform')['name'].count().sort_values(ascending=False).head(7)"
   ]
  },
  {
   "cell_type": "markdown",
   "id": "97e8465f-7910-4f8c-a02b-1b9879a00782",
   "metadata": {
    "id": "e8d8a1d0"
   },
   "source": [
    "Игры на приставках PlayStation2 и Nintendo DS были самыми популярными в этот период."
   ]
  },
  {
   "cell_type": "markdown",
   "id": "c0158881",
   "metadata": {
    "id": "c0158881"
   },
   "source": [
    "---\n",
    "\n",
    "## 5. Итоговый вывод"
   ]
  },
  {
   "cell_type": "markdown",
   "id": "198a1bad-eec7-4894-b623-a11164dee30b",
   "metadata": {
    "id": "0c1afc40"
   },
   "source": [
    "В ходе проекта была проведена подготовка датасета `new_games.csv` для дальнейшего анализа индустрии игр в период с 2000 по 2013 год. \n",
    "\n",
    "Были выполнены следующие этапы:\n",
    "\n",
    "- Загрузка и знакомство с данными:\n",
    "\n",
    "  Изучены структура и типы данных, выявлены проблемы с некорректными форматами и пропусками.\n",
    "\n",
    "- Предобработка данных:\n",
    "\n",
    "  Исправлены названия столбцов (приведены к snake_case).\n",
    "\n",
    "- Преобразованы типы данных:\n",
    "\n",
    "  `eu_sales`, `jp_sales` — из строкового в вещественный тип (float64).\n",
    "\n",
    "  `user_score` — из строкового в вещественный тип (float64).\n",
    "\n",
    "  `year_of_release` — из вещественного в целочисленный (int16).\n",
    "\n",
    "  `critic_score` — приведен к int8.\n",
    "\n",
    "- Обработаны пропуски:\n",
    "\n",
    "  Удалены пропуски в столбцах `name`, `genre`, `eu_sales`, `jp_sales` (незначительное количество).\n",
    "\n",
    "  Пропуски в `user_score`, `critic_score`, `rating` заполнены медианой/модой по жанру.\n",
    "\n",
    "  Удалены явные (241 строка) и неявные дубликаты (2 строки).\n",
    "\n",
    "- Фильтрация данных:\n",
    "\n",
    "  Отобраны игры, выпущенные с 2000 по 2013 год включительно (13039 строк).\n",
    "\n",
    "- Категоризация данных:\n",
    "\n",
    "  Добавлены новые столбцы:\n",
    "\n",
    "  `user_score_cat` — категория оценки пользователей (низкая, средняя, высокая).\n",
    "\n",
    "  `critic_score_cat` — категория оценки критиков (низкая, средняя, высокая).\n",
    "\n",
    "  Выделены топ-7 платформ по количеству выпущенных игр:\n",
    "\n",
    "  PS2, DS, Wii, PSP, X360, PS3, XB.\n",
    "\n",
    "  Итоговый срез данных `games_df_actual` включает:\n",
    "\n",
    "  13039 игр за 2000–2013 гг.\n",
    "\n",
    "  11 исходных столбцов + 2 новых (`user_score_cat`, `critic_score_cat`).\n",
    "\n",
    "\n",
    "Датасет успешно подготовлен для дальнейшего исследования. Обработаны аномалии, устранены пропуски, добавлены категории оценок и выделены ключевые платформы. Это позволит команде \"Секреты Темнолесья\" провести детальный анализ игрового рынка и выявить значимые закономерности.\n"
   ]
  }
 ],
 "metadata": {
  "ExecuteTimeLog": [
   {
    "duration": 424,
    "start_time": "2025-05-22T11:02:47.136Z"
   },
   {
    "duration": 114,
    "start_time": "2025-05-22T11:02:47.562Z"
   },
   {
    "duration": 18,
    "start_time": "2025-05-22T11:02:47.677Z"
   },
   {
    "duration": 30,
    "start_time": "2025-05-22T11:02:47.696Z"
   },
   {
    "duration": 12,
    "start_time": "2025-05-22T11:02:47.728Z"
   },
   {
    "duration": 7,
    "start_time": "2025-05-22T11:02:47.742Z"
   },
   {
    "duration": 7,
    "start_time": "2025-05-22T11:02:47.750Z"
   },
   {
    "duration": 16,
    "start_time": "2025-05-22T11:02:47.758Z"
   },
   {
    "duration": 7,
    "start_time": "2025-05-22T11:02:47.776Z"
   },
   {
    "duration": 6,
    "start_time": "2025-05-22T11:02:47.784Z"
   },
   {
    "duration": 5,
    "start_time": "2025-05-22T11:02:47.792Z"
   },
   {
    "duration": 29,
    "start_time": "2025-05-22T11:02:47.799Z"
   },
   {
    "duration": 11,
    "start_time": "2025-05-22T11:02:47.829Z"
   },
   {
    "duration": 7,
    "start_time": "2025-05-22T11:02:47.844Z"
   },
   {
    "duration": 24,
    "start_time": "2025-05-22T11:02:47.852Z"
   },
   {
    "duration": 51,
    "start_time": "2025-05-22T11:02:47.877Z"
   },
   {
    "duration": 88,
    "start_time": "2025-05-22T11:02:47.931Z"
   },
   {
    "duration": 0,
    "start_time": "2025-05-22T11:02:48.020Z"
   },
   {
    "duration": 0,
    "start_time": "2025-05-22T11:02:48.021Z"
   },
   {
    "duration": 0,
    "start_time": "2025-05-22T11:02:48.022Z"
   },
   {
    "duration": 0,
    "start_time": "2025-05-22T11:02:48.023Z"
   },
   {
    "duration": 0,
    "start_time": "2025-05-22T11:02:48.024Z"
   },
   {
    "duration": 0,
    "start_time": "2025-05-22T11:02:48.025Z"
   },
   {
    "duration": 0,
    "start_time": "2025-05-22T11:02:48.026Z"
   },
   {
    "duration": 0,
    "start_time": "2025-05-22T11:02:48.028Z"
   },
   {
    "duration": 0,
    "start_time": "2025-05-22T11:02:48.029Z"
   },
   {
    "duration": 0,
    "start_time": "2025-05-22T11:02:48.030Z"
   },
   {
    "duration": 0,
    "start_time": "2025-05-22T11:02:48.032Z"
   },
   {
    "duration": 0,
    "start_time": "2025-05-22T11:02:48.033Z"
   },
   {
    "duration": 0,
    "start_time": "2025-05-22T11:02:48.034Z"
   },
   {
    "duration": 0,
    "start_time": "2025-05-22T11:02:48.036Z"
   },
   {
    "duration": 0,
    "start_time": "2025-05-22T11:02:48.037Z"
   },
   {
    "duration": 0,
    "start_time": "2025-05-22T11:02:48.038Z"
   },
   {
    "duration": 0,
    "start_time": "2025-05-22T11:02:48.039Z"
   },
   {
    "duration": 0,
    "start_time": "2025-05-22T11:02:48.041Z"
   },
   {
    "duration": 0,
    "start_time": "2025-05-22T11:02:48.042Z"
   },
   {
    "duration": 0,
    "start_time": "2025-05-22T11:02:48.044Z"
   },
   {
    "duration": 0,
    "start_time": "2025-05-22T11:02:48.045Z"
   },
   {
    "duration": 0,
    "start_time": "2025-05-22T11:02:48.046Z"
   },
   {
    "duration": 0,
    "start_time": "2025-05-22T11:02:48.047Z"
   },
   {
    "duration": 0,
    "start_time": "2025-05-22T11:02:48.048Z"
   },
   {
    "duration": 0,
    "start_time": "2025-05-22T11:02:48.049Z"
   },
   {
    "duration": 0,
    "start_time": "2025-05-22T11:02:48.050Z"
   },
   {
    "duration": 0,
    "start_time": "2025-05-22T11:02:48.051Z"
   },
   {
    "duration": 414,
    "start_time": "2025-05-22T11:51:01.118Z"
   },
   {
    "duration": 135,
    "start_time": "2025-05-22T11:51:01.534Z"
   },
   {
    "duration": 31,
    "start_time": "2025-05-22T11:51:01.671Z"
   },
   {
    "duration": 19,
    "start_time": "2025-05-22T11:51:01.705Z"
   },
   {
    "duration": 45,
    "start_time": "2025-05-22T11:51:01.725Z"
   },
   {
    "duration": 7,
    "start_time": "2025-05-22T11:51:01.772Z"
   },
   {
    "duration": 7,
    "start_time": "2025-05-22T11:51:01.781Z"
   },
   {
    "duration": 45,
    "start_time": "2025-05-22T11:51:01.790Z"
   },
   {
    "duration": 10,
    "start_time": "2025-05-22T11:51:01.837Z"
   },
   {
    "duration": 13,
    "start_time": "2025-05-22T11:51:01.850Z"
   },
   {
    "duration": 137,
    "start_time": "2025-05-22T11:51:01.865Z"
   },
   {
    "duration": 71,
    "start_time": "2025-05-22T11:51:02.004Z"
   },
   {
    "duration": 6,
    "start_time": "2025-05-22T11:51:02.077Z"
   },
   {
    "duration": 37,
    "start_time": "2025-05-22T11:51:02.085Z"
   },
   {
    "duration": 44,
    "start_time": "2025-05-22T11:51:02.124Z"
   },
   {
    "duration": 28,
    "start_time": "2025-05-22T11:51:02.170Z"
   },
   {
    "duration": 62,
    "start_time": "2025-05-22T11:51:02.200Z"
   },
   {
    "duration": 0,
    "start_time": "2025-05-22T11:51:02.265Z"
   },
   {
    "duration": 0,
    "start_time": "2025-05-22T11:51:02.267Z"
   },
   {
    "duration": 0,
    "start_time": "2025-05-22T11:51:02.268Z"
   },
   {
    "duration": 0,
    "start_time": "2025-05-22T11:51:02.270Z"
   },
   {
    "duration": 0,
    "start_time": "2025-05-22T11:51:02.272Z"
   },
   {
    "duration": 0,
    "start_time": "2025-05-22T11:51:02.273Z"
   },
   {
    "duration": 0,
    "start_time": "2025-05-22T11:51:02.275Z"
   },
   {
    "duration": 0,
    "start_time": "2025-05-22T11:51:02.276Z"
   },
   {
    "duration": 0,
    "start_time": "2025-05-22T11:51:02.278Z"
   },
   {
    "duration": 0,
    "start_time": "2025-05-22T11:51:02.280Z"
   },
   {
    "duration": 0,
    "start_time": "2025-05-22T11:51:02.281Z"
   },
   {
    "duration": 0,
    "start_time": "2025-05-22T11:51:02.284Z"
   },
   {
    "duration": 0,
    "start_time": "2025-05-22T11:51:02.286Z"
   },
   {
    "duration": 0,
    "start_time": "2025-05-22T11:51:02.287Z"
   },
   {
    "duration": 0,
    "start_time": "2025-05-22T11:51:02.289Z"
   },
   {
    "duration": 0,
    "start_time": "2025-05-22T11:51:02.290Z"
   },
   {
    "duration": 0,
    "start_time": "2025-05-22T11:51:02.292Z"
   },
   {
    "duration": 0,
    "start_time": "2025-05-22T11:51:02.294Z"
   },
   {
    "duration": 0,
    "start_time": "2025-05-22T11:51:02.295Z"
   },
   {
    "duration": 0,
    "start_time": "2025-05-22T11:51:02.297Z"
   },
   {
    "duration": 0,
    "start_time": "2025-05-22T11:51:02.298Z"
   },
   {
    "duration": 0,
    "start_time": "2025-05-22T11:51:02.300Z"
   },
   {
    "duration": 0,
    "start_time": "2025-05-22T11:51:02.302Z"
   },
   {
    "duration": 0,
    "start_time": "2025-05-22T11:51:02.303Z"
   },
   {
    "duration": 0,
    "start_time": "2025-05-22T11:51:02.304Z"
   },
   {
    "duration": 0,
    "start_time": "2025-05-22T11:51:02.361Z"
   },
   {
    "duration": 0,
    "start_time": "2025-05-22T11:51:02.362Z"
   },
   {
    "duration": 8,
    "start_time": "2025-05-22T11:56:13.779Z"
   },
   {
    "duration": 10,
    "start_time": "2025-05-22T11:57:22.194Z"
   },
   {
    "duration": 411,
    "start_time": "2025-05-22T12:04:12.788Z"
   },
   {
    "duration": 161,
    "start_time": "2025-05-22T12:04:13.201Z"
   },
   {
    "duration": 23,
    "start_time": "2025-05-22T12:04:13.364Z"
   },
   {
    "duration": 18,
    "start_time": "2025-05-22T12:04:13.389Z"
   },
   {
    "duration": 6,
    "start_time": "2025-05-22T12:04:13.408Z"
   },
   {
    "duration": 6,
    "start_time": "2025-05-22T12:04:13.416Z"
   },
   {
    "duration": 38,
    "start_time": "2025-05-22T12:04:13.423Z"
   },
   {
    "duration": 20,
    "start_time": "2025-05-22T12:04:13.463Z"
   },
   {
    "duration": 14,
    "start_time": "2025-05-22T12:04:13.485Z"
   },
   {
    "duration": 10,
    "start_time": "2025-05-22T12:04:13.502Z"
   },
   {
    "duration": 35,
    "start_time": "2025-05-22T12:04:13.514Z"
   },
   {
    "duration": 21,
    "start_time": "2025-05-22T12:04:13.551Z"
   },
   {
    "duration": 17,
    "start_time": "2025-05-22T12:04:13.574Z"
   },
   {
    "duration": 89,
    "start_time": "2025-05-22T12:04:13.593Z"
   },
   {
    "duration": 29,
    "start_time": "2025-05-22T12:04:13.684Z"
   },
   {
    "duration": 21,
    "start_time": "2025-05-22T12:04:13.715Z"
   },
   {
    "duration": 11,
    "start_time": "2025-05-22T12:04:13.737Z"
   },
   {
    "duration": 14,
    "start_time": "2025-05-22T12:04:13.750Z"
   },
   {
    "duration": 6,
    "start_time": "2025-05-22T12:04:13.766Z"
   },
   {
    "duration": 8,
    "start_time": "2025-05-22T12:04:13.774Z"
   },
   {
    "duration": 15,
    "start_time": "2025-05-22T12:04:13.784Z"
   },
   {
    "duration": 21447,
    "start_time": "2025-05-22T12:04:13.800Z"
   },
   {
    "duration": 13403,
    "start_time": "2025-05-22T12:04:35.249Z"
   },
   {
    "duration": 14968,
    "start_time": "2025-05-22T12:04:48.654Z"
   },
   {
    "duration": 9,
    "start_time": "2025-05-22T12:05:03.624Z"
   },
   {
    "duration": 14,
    "start_time": "2025-05-22T12:05:03.635Z"
   },
   {
    "duration": 12,
    "start_time": "2025-05-22T12:05:03.651Z"
   },
   {
    "duration": 6,
    "start_time": "2025-05-22T12:05:03.668Z"
   },
   {
    "duration": 16,
    "start_time": "2025-05-22T12:05:03.676Z"
   },
   {
    "duration": 15,
    "start_time": "2025-05-22T12:05:03.694Z"
   },
   {
    "duration": 57,
    "start_time": "2025-05-22T12:05:03.711Z"
   },
   {
    "duration": 7,
    "start_time": "2025-05-22T12:05:03.770Z"
   },
   {
    "duration": 18,
    "start_time": "2025-05-22T12:05:03.778Z"
   },
   {
    "duration": 44,
    "start_time": "2025-05-22T12:05:03.798Z"
   },
   {
    "duration": 7,
    "start_time": "2025-05-22T12:05:03.844Z"
   },
   {
    "duration": 24,
    "start_time": "2025-05-22T12:05:03.852Z"
   },
   {
    "duration": 7,
    "start_time": "2025-05-22T12:05:03.879Z"
   },
   {
    "duration": 41,
    "start_time": "2025-05-22T12:05:03.888Z"
   },
   {
    "duration": 52,
    "start_time": "2025-05-22T12:05:03.931Z"
   },
   {
    "duration": 9,
    "start_time": "2025-05-22T12:05:03.985Z"
   },
   {
    "duration": 38,
    "start_time": "2025-05-22T12:05:03.996Z"
   },
   {
    "duration": 15,
    "start_time": "2025-05-22T12:05:04.036Z"
   },
   {
    "duration": 25,
    "start_time": "2025-05-22T12:05:04.053Z"
   },
   {
    "duration": 25,
    "start_time": "2025-05-22T12:05:04.080Z"
   },
   {
    "duration": 439,
    "start_time": "2025-05-22T12:09:02.063Z"
   },
   {
    "duration": 147,
    "start_time": "2025-05-22T12:09:02.504Z"
   },
   {
    "duration": 22,
    "start_time": "2025-05-22T12:09:02.653Z"
   },
   {
    "duration": 18,
    "start_time": "2025-05-22T12:09:02.678Z"
   },
   {
    "duration": 28,
    "start_time": "2025-05-22T12:09:02.698Z"
   },
   {
    "duration": 20,
    "start_time": "2025-05-22T12:09:02.728Z"
   },
   {
    "duration": 24,
    "start_time": "2025-05-22T12:09:02.750Z"
   },
   {
    "duration": 6,
    "start_time": "2025-05-22T12:09:02.776Z"
   },
   {
    "duration": 4,
    "start_time": "2025-05-22T12:09:02.783Z"
   },
   {
    "duration": 4,
    "start_time": "2025-05-22T12:09:02.790Z"
   },
   {
    "duration": 8,
    "start_time": "2025-05-22T12:09:02.796Z"
   },
   {
    "duration": 103,
    "start_time": "2025-05-22T12:09:02.806Z"
   },
   {
    "duration": 5,
    "start_time": "2025-05-22T12:09:02.911Z"
   },
   {
    "duration": 25,
    "start_time": "2025-05-22T12:09:02.918Z"
   },
   {
    "duration": 29,
    "start_time": "2025-05-22T12:09:02.945Z"
   },
   {
    "duration": 30,
    "start_time": "2025-05-22T12:09:02.976Z"
   },
   {
    "duration": 11,
    "start_time": "2025-05-22T12:09:03.007Z"
   },
   {
    "duration": 9,
    "start_time": "2025-05-22T12:09:03.020Z"
   },
   {
    "duration": 16,
    "start_time": "2025-05-22T12:09:03.031Z"
   },
   {
    "duration": 24,
    "start_time": "2025-05-22T12:09:03.049Z"
   },
   {
    "duration": 23,
    "start_time": "2025-05-22T12:09:03.074Z"
   },
   {
    "duration": 20838,
    "start_time": "2025-05-22T12:09:03.099Z"
   },
   {
    "duration": 13260,
    "start_time": "2025-05-22T12:09:23.939Z"
   },
   {
    "duration": 14713,
    "start_time": "2025-05-22T12:09:37.201Z"
   },
   {
    "duration": 10,
    "start_time": "2025-05-22T12:09:51.916Z"
   },
   {
    "duration": 9,
    "start_time": "2025-05-22T12:09:51.928Z"
   },
   {
    "duration": 107,
    "start_time": "2025-05-22T12:09:51.939Z"
   },
   {
    "duration": 17,
    "start_time": "2025-05-22T12:09:52.049Z"
   },
   {
    "duration": 29,
    "start_time": "2025-05-22T12:09:52.068Z"
   },
   {
    "duration": 15,
    "start_time": "2025-05-22T12:09:52.098Z"
   },
   {
    "duration": 32,
    "start_time": "2025-05-22T12:09:52.115Z"
   },
   {
    "duration": 8,
    "start_time": "2025-05-22T12:09:52.149Z"
   },
   {
    "duration": 11,
    "start_time": "2025-05-22T12:09:52.159Z"
   },
   {
    "duration": 48,
    "start_time": "2025-05-22T12:09:52.171Z"
   },
   {
    "duration": 8,
    "start_time": "2025-05-22T12:09:52.221Z"
   },
   {
    "duration": 42,
    "start_time": "2025-05-22T12:09:52.231Z"
   },
   {
    "duration": 23,
    "start_time": "2025-05-22T12:09:52.275Z"
   },
   {
    "duration": 49,
    "start_time": "2025-05-22T12:09:52.299Z"
   },
   {
    "duration": 3,
    "start_time": "2025-05-22T12:09:52.349Z"
   },
   {
    "duration": 9,
    "start_time": "2025-05-22T12:09:52.354Z"
   },
   {
    "duration": 8,
    "start_time": "2025-05-22T12:09:52.365Z"
   },
   {
    "duration": 8,
    "start_time": "2025-05-22T12:09:52.375Z"
   },
   {
    "duration": 10,
    "start_time": "2025-05-22T12:09:52.385Z"
   },
   {
    "duration": 5,
    "start_time": "2025-05-22T12:09:52.397Z"
   },
   {
    "duration": 396,
    "start_time": "2025-05-22T12:12:06.911Z"
   },
   {
    "duration": 111,
    "start_time": "2025-05-22T12:12:07.309Z"
   },
   {
    "duration": 26,
    "start_time": "2025-05-22T12:12:07.422Z"
   },
   {
    "duration": 19,
    "start_time": "2025-05-22T12:12:07.451Z"
   },
   {
    "duration": 7,
    "start_time": "2025-05-22T12:12:07.471Z"
   },
   {
    "duration": 8,
    "start_time": "2025-05-22T12:12:07.480Z"
   },
   {
    "duration": 8,
    "start_time": "2025-05-22T12:12:07.489Z"
   },
   {
    "duration": 5,
    "start_time": "2025-05-22T12:12:07.500Z"
   },
   {
    "duration": 5,
    "start_time": "2025-05-22T12:12:07.507Z"
   },
   {
    "duration": 4,
    "start_time": "2025-05-22T12:12:07.516Z"
   },
   {
    "duration": 6,
    "start_time": "2025-05-22T12:12:07.560Z"
   },
   {
    "duration": 88,
    "start_time": "2025-05-22T12:12:07.568Z"
   },
   {
    "duration": 80,
    "start_time": "2025-05-22T12:12:07.658Z"
   },
   {
    "duration": 14,
    "start_time": "2025-05-22T12:12:07.740Z"
   },
   {
    "duration": 19,
    "start_time": "2025-05-22T12:12:07.755Z"
   },
   {
    "duration": 21,
    "start_time": "2025-05-22T12:12:07.777Z"
   },
   {
    "duration": 11,
    "start_time": "2025-05-22T12:12:07.801Z"
   },
   {
    "duration": 10,
    "start_time": "2025-05-22T12:12:07.814Z"
   },
   {
    "duration": 36,
    "start_time": "2025-05-22T12:12:07.825Z"
   },
   {
    "duration": 9,
    "start_time": "2025-05-22T12:12:07.863Z"
   },
   {
    "duration": 15,
    "start_time": "2025-05-22T12:12:07.873Z"
   },
   {
    "duration": 20942,
    "start_time": "2025-05-22T12:12:07.890Z"
   },
   {
    "duration": 13179,
    "start_time": "2025-05-22T12:12:28.834Z"
   },
   {
    "duration": 14511,
    "start_time": "2025-05-22T12:12:42.014Z"
   },
   {
    "duration": 10,
    "start_time": "2025-05-22T12:12:56.527Z"
   },
   {
    "duration": 7,
    "start_time": "2025-05-22T12:12:56.539Z"
   },
   {
    "duration": 6,
    "start_time": "2025-05-22T12:12:56.561Z"
   },
   {
    "duration": 10,
    "start_time": "2025-05-22T12:12:56.570Z"
   },
   {
    "duration": 31,
    "start_time": "2025-05-22T12:12:56.582Z"
   },
   {
    "duration": 15,
    "start_time": "2025-05-22T12:12:56.615Z"
   },
   {
    "duration": 39,
    "start_time": "2025-05-22T12:12:56.632Z"
   },
   {
    "duration": 6,
    "start_time": "2025-05-22T12:12:56.673Z"
   },
   {
    "duration": 7,
    "start_time": "2025-05-22T12:12:56.681Z"
   },
   {
    "duration": 23,
    "start_time": "2025-05-22T12:12:56.689Z"
   },
   {
    "duration": 12,
    "start_time": "2025-05-22T12:12:56.714Z"
   },
   {
    "duration": 49,
    "start_time": "2025-05-22T12:12:56.728Z"
   },
   {
    "duration": 7,
    "start_time": "2025-05-22T12:12:56.779Z"
   },
   {
    "duration": 29,
    "start_time": "2025-05-22T12:12:56.788Z"
   },
   {
    "duration": 3,
    "start_time": "2025-05-22T12:12:56.818Z"
   },
   {
    "duration": 40,
    "start_time": "2025-05-22T12:12:56.823Z"
   },
   {
    "duration": 56,
    "start_time": "2025-05-22T12:12:56.865Z"
   },
   {
    "duration": 27,
    "start_time": "2025-05-22T12:12:56.923Z"
   },
   {
    "duration": 9,
    "start_time": "2025-05-22T12:12:56.952Z"
   },
   {
    "duration": 3,
    "start_time": "2025-05-22T12:12:56.962Z"
   },
   {
    "duration": 394,
    "start_time": "2025-05-22T15:29:09.875Z"
   },
   {
    "duration": 118,
    "start_time": "2025-05-22T15:29:10.271Z"
   },
   {
    "duration": 21,
    "start_time": "2025-05-22T15:29:10.390Z"
   },
   {
    "duration": 43,
    "start_time": "2025-05-22T15:29:10.413Z"
   },
   {
    "duration": 6,
    "start_time": "2025-05-22T15:29:10.458Z"
   },
   {
    "duration": 16,
    "start_time": "2025-05-22T15:29:10.466Z"
   },
   {
    "duration": 22,
    "start_time": "2025-05-22T15:29:10.483Z"
   },
   {
    "duration": 18,
    "start_time": "2025-05-22T15:29:10.507Z"
   },
   {
    "duration": 10,
    "start_time": "2025-05-22T15:29:10.527Z"
   },
   {
    "duration": 19,
    "start_time": "2025-05-22T15:29:10.538Z"
   },
   {
    "duration": 8,
    "start_time": "2025-05-22T15:29:10.559Z"
   },
   {
    "duration": 16,
    "start_time": "2025-05-22T15:29:10.568Z"
   },
   {
    "duration": 22,
    "start_time": "2025-05-22T15:29:10.585Z"
   },
   {
    "duration": 60,
    "start_time": "2025-05-22T15:29:10.612Z"
   },
   {
    "duration": 72,
    "start_time": "2025-05-22T15:29:10.674Z"
   },
   {
    "duration": 20,
    "start_time": "2025-05-22T15:29:10.748Z"
   },
   {
    "duration": 9,
    "start_time": "2025-05-22T15:29:10.770Z"
   },
   {
    "duration": 26,
    "start_time": "2025-05-22T15:29:10.781Z"
   },
   {
    "duration": 133,
    "start_time": "2025-05-22T15:29:10.809Z"
   },
   {
    "duration": 19,
    "start_time": "2025-05-22T15:29:10.944Z"
   },
   {
    "duration": 15,
    "start_time": "2025-05-22T15:29:10.965Z"
   },
   {
    "duration": 21056,
    "start_time": "2025-05-22T15:29:10.982Z"
   },
   {
    "duration": 12692,
    "start_time": "2025-05-22T15:29:32.040Z"
   },
   {
    "duration": 13668,
    "start_time": "2025-05-22T15:29:44.736Z"
   },
   {
    "duration": 9,
    "start_time": "2025-05-22T15:29:58.406Z"
   },
   {
    "duration": 85,
    "start_time": "2025-05-22T15:29:58.416Z"
   },
   {
    "duration": 44,
    "start_time": "2025-05-22T15:29:58.502Z"
   },
   {
    "duration": 81,
    "start_time": "2025-05-22T15:29:58.548Z"
   },
   {
    "duration": 124,
    "start_time": "2025-05-22T15:29:58.630Z"
   },
   {
    "duration": 27,
    "start_time": "2025-05-22T15:29:58.756Z"
   },
   {
    "duration": 37,
    "start_time": "2025-05-22T15:29:58.785Z"
   },
   {
    "duration": 84,
    "start_time": "2025-05-22T15:29:58.824Z"
   },
   {
    "duration": 11,
    "start_time": "2025-05-22T15:29:58.909Z"
   },
   {
    "duration": 73,
    "start_time": "2025-05-22T15:29:58.921Z"
   },
   {
    "duration": 28,
    "start_time": "2025-05-22T15:29:58.997Z"
   },
   {
    "duration": 31,
    "start_time": "2025-05-22T15:29:59.026Z"
   },
   {
    "duration": 14,
    "start_time": "2025-05-22T15:29:59.059Z"
   },
   {
    "duration": 40,
    "start_time": "2025-05-22T15:29:59.075Z"
   },
   {
    "duration": 31,
    "start_time": "2025-05-22T15:29:59.117Z"
   },
   {
    "duration": 37,
    "start_time": "2025-05-22T15:29:59.150Z"
   },
   {
    "duration": 26,
    "start_time": "2025-05-22T15:29:59.191Z"
   },
   {
    "duration": 39,
    "start_time": "2025-05-22T15:29:59.219Z"
   },
   {
    "duration": 51,
    "start_time": "2025-05-22T15:29:59.259Z"
   },
   {
    "duration": 24,
    "start_time": "2025-05-22T15:29:59.311Z"
   },
   {
    "duration": 51,
    "start_time": "2025-05-22T17:21:20.984Z"
   },
   {
    "duration": 442,
    "start_time": "2025-05-22T17:22:37.541Z"
   },
   {
    "duration": 144,
    "start_time": "2025-05-22T17:22:37.985Z"
   },
   {
    "duration": 21,
    "start_time": "2025-05-22T17:22:38.130Z"
   },
   {
    "duration": 74,
    "start_time": "2025-05-22T17:22:38.153Z"
   },
   {
    "duration": 107,
    "start_time": "2025-05-22T17:22:38.230Z"
   },
   {
    "duration": 96,
    "start_time": "2025-05-22T17:22:38.338Z"
   },
   {
    "duration": 35,
    "start_time": "2025-05-22T17:22:38.435Z"
   },
   {
    "duration": 18,
    "start_time": "2025-05-22T17:22:38.471Z"
   },
   {
    "duration": 30,
    "start_time": "2025-05-22T17:22:38.491Z"
   },
   {
    "duration": 17,
    "start_time": "2025-05-22T17:22:38.523Z"
   },
   {
    "duration": 36,
    "start_time": "2025-05-22T17:22:38.541Z"
   },
   {
    "duration": 15,
    "start_time": "2025-05-22T17:22:38.578Z"
   },
   {
    "duration": 26,
    "start_time": "2025-05-22T17:22:38.595Z"
   },
   {
    "duration": 31,
    "start_time": "2025-05-22T17:22:38.625Z"
   },
   {
    "duration": 19,
    "start_time": "2025-05-22T17:22:38.658Z"
   },
   {
    "duration": 71,
    "start_time": "2025-05-22T17:22:38.678Z"
   },
   {
    "duration": 28,
    "start_time": "2025-05-22T17:22:38.751Z"
   },
   {
    "duration": 17,
    "start_time": "2025-05-22T17:22:38.780Z"
   },
   {
    "duration": 34,
    "start_time": "2025-05-22T17:22:38.799Z"
   },
   {
    "duration": 55,
    "start_time": "2025-05-22T17:22:38.835Z"
   },
   {
    "duration": 140,
    "start_time": "2025-05-22T17:22:38.892Z"
   },
   {
    "duration": 19444,
    "start_time": "2025-05-22T17:22:39.033Z"
   },
   {
    "duration": 12425,
    "start_time": "2025-05-22T17:22:58.478Z"
   },
   {
    "duration": 13752,
    "start_time": "2025-05-22T17:23:10.904Z"
   },
   {
    "duration": 9,
    "start_time": "2025-05-22T17:23:24.660Z"
   },
   {
    "duration": 14,
    "start_time": "2025-05-22T17:23:24.671Z"
   },
   {
    "duration": 10,
    "start_time": "2025-05-22T17:23:24.687Z"
   },
   {
    "duration": 37,
    "start_time": "2025-05-22T17:23:24.699Z"
   },
   {
    "duration": 18,
    "start_time": "2025-05-22T17:23:24.738Z"
   },
   {
    "duration": 61,
    "start_time": "2025-05-22T17:23:24.758Z"
   },
   {
    "duration": 82,
    "start_time": "2025-05-22T17:23:24.821Z"
   },
   {
    "duration": 12,
    "start_time": "2025-05-22T17:23:38.873Z"
   },
   {
    "duration": 11,
    "start_time": "2025-05-22T17:23:46.245Z"
   },
   {
    "duration": 12,
    "start_time": "2025-05-22T17:26:36.311Z"
   },
   {
    "duration": 12,
    "start_time": "2025-05-22T17:26:45.563Z"
   },
   {
    "duration": 20,
    "start_time": "2025-05-22T17:26:57.774Z"
   },
   {
    "duration": 20,
    "start_time": "2025-05-22T17:27:19.580Z"
   },
   {
    "duration": 2,
    "start_time": "2025-05-22T17:45:57.425Z"
   },
   {
    "duration": 160,
    "start_time": "2025-05-22T17:45:57.429Z"
   },
   {
    "duration": 14,
    "start_time": "2025-05-22T17:45:57.591Z"
   },
   {
    "duration": 47,
    "start_time": "2025-05-22T17:45:57.607Z"
   },
   {
    "duration": 41,
    "start_time": "2025-05-22T17:45:57.656Z"
   },
   {
    "duration": 9,
    "start_time": "2025-05-22T17:45:57.699Z"
   },
   {
    "duration": 14,
    "start_time": "2025-05-22T17:45:57.710Z"
   },
   {
    "duration": 7,
    "start_time": "2025-05-22T17:45:57.726Z"
   },
   {
    "duration": 6,
    "start_time": "2025-05-22T17:45:57.735Z"
   },
   {
    "duration": 26,
    "start_time": "2025-05-22T17:45:57.743Z"
   },
   {
    "duration": 32,
    "start_time": "2025-05-22T17:45:57.771Z"
   },
   {
    "duration": 26,
    "start_time": "2025-05-22T17:45:57.805Z"
   },
   {
    "duration": 4,
    "start_time": "2025-05-22T17:45:57.833Z"
   },
   {
    "duration": 23,
    "start_time": "2025-05-22T17:45:57.840Z"
   },
   {
    "duration": 146,
    "start_time": "2025-05-22T17:45:57.865Z"
   },
   {
    "duration": 231,
    "start_time": "2025-05-22T17:45:58.013Z"
   },
   {
    "duration": 23,
    "start_time": "2025-05-22T17:45:58.246Z"
   },
   {
    "duration": 8,
    "start_time": "2025-05-22T17:45:58.271Z"
   },
   {
    "duration": 6,
    "start_time": "2025-05-22T17:45:58.281Z"
   },
   {
    "duration": 24,
    "start_time": "2025-05-22T17:45:58.288Z"
   },
   {
    "duration": 13,
    "start_time": "2025-05-22T17:45:58.314Z"
   },
   {
    "duration": 20103,
    "start_time": "2025-05-22T17:45:58.328Z"
   },
   {
    "duration": 12849,
    "start_time": "2025-05-22T17:46:18.434Z"
   },
   {
    "duration": 14134,
    "start_time": "2025-05-22T17:46:31.285Z"
   },
   {
    "duration": 10,
    "start_time": "2025-05-22T17:46:45.421Z"
   },
   {
    "duration": 9,
    "start_time": "2025-05-22T17:46:45.432Z"
   },
   {
    "duration": 20,
    "start_time": "2025-05-22T17:46:45.442Z"
   },
   {
    "duration": 14,
    "start_time": "2025-05-22T17:46:45.464Z"
   },
   {
    "duration": 35,
    "start_time": "2025-05-22T17:46:45.479Z"
   },
   {
    "duration": 5,
    "start_time": "2025-05-22T17:46:45.515Z"
   },
   {
    "duration": 39,
    "start_time": "2025-05-22T17:46:45.521Z"
   },
   {
    "duration": 30,
    "start_time": "2025-05-22T17:46:45.562Z"
   },
   {
    "duration": 3,
    "start_time": "2025-05-22T17:57:23.776Z"
   },
   {
    "duration": 124,
    "start_time": "2025-05-22T17:57:23.781Z"
   },
   {
    "duration": 14,
    "start_time": "2025-05-22T17:57:23.907Z"
   },
   {
    "duration": 338,
    "start_time": "2025-05-22T17:57:23.923Z"
   },
   {
    "duration": 66,
    "start_time": "2025-05-22T17:57:24.263Z"
   },
   {
    "duration": 7,
    "start_time": "2025-05-22T17:57:24.331Z"
   },
   {
    "duration": 11,
    "start_time": "2025-05-22T17:57:24.339Z"
   },
   {
    "duration": 35,
    "start_time": "2025-05-22T17:57:24.352Z"
   },
   {
    "duration": 13,
    "start_time": "2025-05-22T17:57:24.389Z"
   },
   {
    "duration": 20,
    "start_time": "2025-05-22T17:57:24.404Z"
   },
   {
    "duration": 22,
    "start_time": "2025-05-22T17:57:24.425Z"
   },
   {
    "duration": 165,
    "start_time": "2025-05-22T17:57:24.449Z"
   },
   {
    "duration": 16,
    "start_time": "2025-05-22T17:57:24.616Z"
   },
   {
    "duration": 21,
    "start_time": "2025-05-22T17:57:24.634Z"
   },
   {
    "duration": 39,
    "start_time": "2025-05-22T17:57:24.657Z"
   },
   {
    "duration": 34,
    "start_time": "2025-05-22T17:57:24.698Z"
   },
   {
    "duration": 29,
    "start_time": "2025-05-22T17:57:24.735Z"
   },
   {
    "duration": 45,
    "start_time": "2025-05-22T17:57:24.766Z"
   },
   {
    "duration": 36,
    "start_time": "2025-05-22T17:57:24.813Z"
   },
   {
    "duration": 47,
    "start_time": "2025-05-22T17:57:24.851Z"
   },
   {
    "duration": 57,
    "start_time": "2025-05-22T17:57:24.900Z"
   },
   {
    "duration": 20203,
    "start_time": "2025-05-22T17:57:24.959Z"
   },
   {
    "duration": 12960,
    "start_time": "2025-05-22T17:57:45.164Z"
   },
   {
    "duration": 14246,
    "start_time": "2025-05-22T17:57:58.126Z"
   },
   {
    "duration": 12,
    "start_time": "2025-05-22T17:58:12.374Z"
   },
   {
    "duration": 22,
    "start_time": "2025-05-22T17:58:12.388Z"
   },
   {
    "duration": 16,
    "start_time": "2025-05-22T17:58:12.412Z"
   },
   {
    "duration": 11,
    "start_time": "2025-05-22T17:58:12.432Z"
   },
   {
    "duration": 16,
    "start_time": "2025-05-22T17:58:12.445Z"
   },
   {
    "duration": 13,
    "start_time": "2025-05-22T17:58:12.463Z"
   },
   {
    "duration": 124,
    "start_time": "2025-05-22T17:58:12.477Z"
   },
   {
    "duration": 64,
    "start_time": "2025-05-22T17:58:12.603Z"
   },
   {
    "duration": 0,
    "start_time": "2025-05-22T17:58:12.669Z"
   },
   {
    "duration": 0,
    "start_time": "2025-05-22T17:58:12.670Z"
   },
   {
    "duration": 0,
    "start_time": "2025-05-22T17:58:12.671Z"
   },
   {
    "duration": 19,
    "start_time": "2025-05-22T17:58:55.878Z"
   },
   {
    "duration": 4,
    "start_time": "2025-05-22T18:00:56.084Z"
   },
   {
    "duration": 11,
    "start_time": "2025-05-22T18:00:59.315Z"
   },
   {
    "duration": 4,
    "start_time": "2025-05-22T18:01:02.265Z"
   },
   {
    "duration": 408,
    "start_time": "2025-05-22T18:10:37.487Z"
   },
   {
    "duration": 110,
    "start_time": "2025-05-22T18:10:37.897Z"
   },
   {
    "duration": 22,
    "start_time": "2025-05-22T18:10:38.008Z"
   },
   {
    "duration": 139,
    "start_time": "2025-05-22T18:10:38.033Z"
   },
   {
    "duration": 7,
    "start_time": "2025-05-22T18:10:38.174Z"
   },
   {
    "duration": 15,
    "start_time": "2025-05-22T18:10:38.183Z"
   },
   {
    "duration": 17,
    "start_time": "2025-05-22T18:10:38.200Z"
   },
   {
    "duration": 7,
    "start_time": "2025-05-22T18:10:38.219Z"
   },
   {
    "duration": 204,
    "start_time": "2025-05-22T18:10:38.228Z"
   },
   {
    "duration": 30,
    "start_time": "2025-05-22T18:10:38.435Z"
   },
   {
    "duration": 44,
    "start_time": "2025-05-22T18:10:38.466Z"
   },
   {
    "duration": 196,
    "start_time": "2025-05-22T18:10:38.511Z"
   },
   {
    "duration": 57,
    "start_time": "2025-05-22T18:10:38.709Z"
   },
   {
    "duration": 15,
    "start_time": "2025-05-22T18:10:38.767Z"
   },
   {
    "duration": 43,
    "start_time": "2025-05-22T18:10:38.784Z"
   },
   {
    "duration": 21,
    "start_time": "2025-05-22T18:10:38.829Z"
   },
   {
    "duration": 13,
    "start_time": "2025-05-22T18:10:38.852Z"
   },
   {
    "duration": 13,
    "start_time": "2025-05-22T18:10:38.867Z"
   },
   {
    "duration": 5,
    "start_time": "2025-05-22T18:10:38.882Z"
   },
   {
    "duration": 16,
    "start_time": "2025-05-22T18:10:38.889Z"
   },
   {
    "duration": 46,
    "start_time": "2025-05-22T18:10:38.907Z"
   },
   {
    "duration": 20164,
    "start_time": "2025-05-22T18:10:38.955Z"
   },
   {
    "duration": 12910,
    "start_time": "2025-05-22T18:10:59.121Z"
   },
   {
    "duration": 14355,
    "start_time": "2025-05-22T18:11:12.033Z"
   },
   {
    "duration": 9,
    "start_time": "2025-05-22T18:11:26.390Z"
   },
   {
    "duration": 45,
    "start_time": "2025-05-22T18:11:26.401Z"
   },
   {
    "duration": 50,
    "start_time": "2025-05-22T18:11:26.448Z"
   },
   {
    "duration": 106,
    "start_time": "2025-05-22T18:11:26.501Z"
   },
   {
    "duration": 50,
    "start_time": "2025-05-22T18:11:26.609Z"
   },
   {
    "duration": 14,
    "start_time": "2025-05-22T18:11:26.661Z"
   },
   {
    "duration": 26,
    "start_time": "2025-05-22T18:11:26.676Z"
   },
   {
    "duration": 68,
    "start_time": "2025-05-22T18:11:26.704Z"
   },
   {
    "duration": 29,
    "start_time": "2025-05-22T18:11:26.774Z"
   },
   {
    "duration": 83,
    "start_time": "2025-05-22T18:11:26.804Z"
   },
   {
    "duration": 21,
    "start_time": "2025-05-22T18:11:26.889Z"
   },
   {
    "duration": 8,
    "start_time": "2025-05-22T18:11:26.911Z"
   },
   {
    "duration": 27,
    "start_time": "2025-05-22T18:11:26.920Z"
   },
   {
    "duration": 9,
    "start_time": "2025-05-22T18:11:26.949Z"
   },
   {
    "duration": 30,
    "start_time": "2025-05-22T18:11:26.959Z"
   },
   {
    "duration": 12,
    "start_time": "2025-05-22T18:11:26.990Z"
   },
   {
    "duration": 31,
    "start_time": "2025-05-22T18:11:27.003Z"
   },
   {
    "duration": 19,
    "start_time": "2025-05-22T18:11:27.036Z"
   },
   {
    "duration": 25,
    "start_time": "2025-05-22T18:11:27.057Z"
   },
   {
    "duration": 130,
    "start_time": "2025-05-22T18:11:27.084Z"
   },
   {
    "duration": 20,
    "start_time": "2025-05-22T18:11:27.216Z"
   },
   {
    "duration": 25,
    "start_time": "2025-05-22T18:11:27.237Z"
   },
   {
    "duration": 8,
    "start_time": "2025-05-22T18:11:27.263Z"
   },
   {
    "duration": 465,
    "start_time": "2025-05-22T18:31:57.738Z"
   },
   {
    "duration": 108,
    "start_time": "2025-05-22T18:31:58.206Z"
   },
   {
    "duration": 22,
    "start_time": "2025-05-22T18:31:58.316Z"
   },
   {
    "duration": 26,
    "start_time": "2025-05-22T18:31:58.340Z"
   },
   {
    "duration": 210,
    "start_time": "2025-05-22T18:31:58.369Z"
   },
   {
    "duration": 38,
    "start_time": "2025-05-22T18:31:58.582Z"
   },
   {
    "duration": 122,
    "start_time": "2025-05-22T18:31:58.622Z"
   },
   {
    "duration": 8,
    "start_time": "2025-05-22T18:31:58.746Z"
   },
   {
    "duration": 12,
    "start_time": "2025-05-22T18:31:58.755Z"
   },
   {
    "duration": 20,
    "start_time": "2025-05-22T18:31:58.769Z"
   },
   {
    "duration": 11,
    "start_time": "2025-05-22T18:31:58.791Z"
   },
   {
    "duration": 19,
    "start_time": "2025-05-22T18:31:58.804Z"
   },
   {
    "duration": 6,
    "start_time": "2025-05-22T18:31:58.824Z"
   },
   {
    "duration": 13,
    "start_time": "2025-05-22T18:31:58.835Z"
   },
   {
    "duration": 20,
    "start_time": "2025-05-22T18:31:58.849Z"
   },
   {
    "duration": 21,
    "start_time": "2025-05-22T18:31:58.871Z"
   },
   {
    "duration": 11,
    "start_time": "2025-05-22T18:31:58.894Z"
   },
   {
    "duration": 11,
    "start_time": "2025-05-22T18:31:58.907Z"
   },
   {
    "duration": 13,
    "start_time": "2025-05-22T18:31:58.920Z"
   },
   {
    "duration": 6,
    "start_time": "2025-05-22T18:31:58.961Z"
   },
   {
    "duration": 30,
    "start_time": "2025-05-22T18:31:58.969Z"
   },
   {
    "duration": 20695,
    "start_time": "2025-05-22T18:31:59.001Z"
   },
   {
    "duration": 13356,
    "start_time": "2025-05-22T18:32:19.699Z"
   },
   {
    "duration": 14652,
    "start_time": "2025-05-22T18:32:33.060Z"
   },
   {
    "duration": 11,
    "start_time": "2025-05-22T18:32:47.713Z"
   },
   {
    "duration": 16,
    "start_time": "2025-05-22T18:32:47.725Z"
   },
   {
    "duration": 23,
    "start_time": "2025-05-22T18:32:47.742Z"
   },
   {
    "duration": 16,
    "start_time": "2025-05-22T18:32:47.766Z"
   },
   {
    "duration": 34,
    "start_time": "2025-05-22T18:32:47.783Z"
   },
   {
    "duration": 14,
    "start_time": "2025-05-22T18:32:47.818Z"
   },
   {
    "duration": 27,
    "start_time": "2025-05-22T18:32:47.834Z"
   },
   {
    "duration": 54,
    "start_time": "2025-05-22T18:32:47.862Z"
   },
   {
    "duration": 27,
    "start_time": "2025-05-22T18:32:47.917Z"
   },
   {
    "duration": 100,
    "start_time": "2025-05-22T18:32:47.946Z"
   },
   {
    "duration": 123,
    "start_time": "2025-05-22T18:32:48.048Z"
   },
   {
    "duration": 4,
    "start_time": "2025-05-22T18:32:48.173Z"
   },
   {
    "duration": 21,
    "start_time": "2025-05-22T18:32:48.179Z"
   },
   {
    "duration": 6,
    "start_time": "2025-05-22T18:32:48.201Z"
   },
   {
    "duration": 23,
    "start_time": "2025-05-22T18:32:48.209Z"
   },
   {
    "duration": 27,
    "start_time": "2025-05-22T18:32:48.234Z"
   },
   {
    "duration": 27,
    "start_time": "2025-05-22T18:32:48.265Z"
   },
   {
    "duration": 3,
    "start_time": "2025-05-22T18:32:48.293Z"
   },
   {
    "duration": 16,
    "start_time": "2025-05-22T18:32:48.297Z"
   },
   {
    "duration": 13,
    "start_time": "2025-05-22T18:32:48.315Z"
   },
   {
    "duration": 32,
    "start_time": "2025-05-22T18:32:48.330Z"
   },
   {
    "duration": 8,
    "start_time": "2025-05-22T18:32:48.363Z"
   },
   {
    "duration": 239,
    "start_time": "2025-05-22T18:32:48.372Z"
   },
   {
    "duration": 6,
    "start_time": "2025-05-22T18:32:48.613Z"
   }
  ],
  "colab": {
   "provenance": []
  },
  "kernelspec": {
   "display_name": "Python 3 (ipykernel)",
   "language": "python",
   "name": "python3"
  },
  "language_info": {
   "codemirror_mode": {
    "name": "ipython",
    "version": 3
   },
   "file_extension": ".py",
   "mimetype": "text/x-python",
   "name": "python",
   "nbconvert_exporter": "python",
   "pygments_lexer": "ipython3",
   "version": "3.12.7"
  },
  "toc": {
   "base_numbering": 1,
   "nav_menu": {},
   "number_sections": true,
   "sideBar": true,
   "skip_h1_title": true,
   "title_cell": "Table of Contents",
   "title_sidebar": "Contents",
   "toc_cell": false,
   "toc_position": {},
   "toc_section_display": true,
   "toc_window_display": true
  }
 },
 "nbformat": 4,
 "nbformat_minor": 5
}
